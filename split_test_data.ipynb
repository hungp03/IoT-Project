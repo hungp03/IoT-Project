{
 "cells": [
  {
   "cell_type": "code",
   "execution_count": 1,
   "metadata": {},
   "outputs": [],
   "source": [
    "import os\n",
    "import pandas as pd\n",
    "import numpy as np\n",
    "import uuid"
   ]
  },
  {
   "cell_type": "code",
   "execution_count": 2,
   "metadata": {},
   "outputs": [],
   "source": [
    "def find_the_way(path,file_format,con=\"\"):\n",
    "    files_add = []\n",
    "    # r=root, d=directories, f = files\n",
    "    for r, d, f in os.walk(path):\n",
    "        for file in f:\n",
    "            if file_format in file:\n",
    "                if con in file:\n",
    "                    files_add.append(os.path.join(r, file))\n",
    "    return files_add"
   ]
  },
  {
   "cell_type": "code",
   "execution_count": 3,
   "metadata": {},
   "outputs": [
    {
     "data": {
      "text/plain": [
       "['test\\\\dos-synflooding-3-dec.pcap_Flow.csv',\n",
       " 'test\\\\dos-synflooding-4-dec.pcap_Flow.csv',\n",
       " 'test\\\\mirai-ackflooding-2-dec.pcap_Flow.csv',\n",
       " 'test\\\\mirai-hostbruteforce-2-dec.pcap_Flow.csv',\n",
       " 'test\\\\mirai-httpflooding-2-dec.pcap_Flow.csv',\n",
       " 'test\\\\mirai-httpflooding-3-dec.pcap_Flow.csv',\n",
       " 'test\\\\mirai-udpflooding-3-dec.pcap_Flow.csv',\n",
       " 'test\\\\mitm-arpspoofing-3-dec.pcap_Flow.csv',\n",
       " 'test\\\\scan-hostport-1-dec.pcap_Flow.csv',\n",
       " 'test\\\\scan-hostport-2-dec.pcap_Flow.csv']"
      ]
     },
     "execution_count": 3,
     "metadata": {},
     "output_type": "execute_result"
    }
   ],
   "source": [
    "find_the_way(\"test\", '.csv')"
   ]
  },
  {
   "cell_type": "code",
   "execution_count": 14,
   "metadata": {},
   "outputs": [
    {
     "name": "stdout",
     "output_type": "stream",
     "text": [
      "Đã lưu demo/sp\\sp_4a55c315-00eb-4171-801b-0ddcc645c928.csv\n",
      "Đã lưu demo/sp\\sp_ae3a8a77-9a96-4f03-a0c5-b5ad21d4a03b.csv\n"
     ]
    },
    {
     "name": "stderr",
     "output_type": "stream",
     "text": [
      "d:\\Project\\IOT\\Final_project\\venv\\Lib\\site-packages\\numpy\\core\\fromnumeric.py:59: FutureWarning: 'DataFrame.swapaxes' is deprecated and will be removed in a future version. Please use 'DataFrame.transpose' instead.\n",
      "  return bound(*args, **kwds)\n",
      "d:\\Project\\IOT\\Final_project\\venv\\Lib\\site-packages\\numpy\\core\\fromnumeric.py:59: FutureWarning: 'DataFrame.swapaxes' is deprecated and will be removed in a future version. Please use 'DataFrame.transpose' instead.\n",
      "  return bound(*args, **kwds)\n"
     ]
    }
   ],
   "source": [
    "\n",
    "file_list = [\n",
    "    \"test/scan-hostport-1-dec.pcap_Flow.csv\",\n",
    "    \"test/scan-hostport-2-dec.pcap_Flow.csv\",\n",
    "] \n",
    "\n",
    "\n",
    "output_folder = \"demo/sp\"\n",
    "os.makedirs(output_folder, exist_ok=True)\n",
    "\n",
    "num_parts = 1\n",
    "\n",
    "\n",
    "for file_path in file_list:\n",
    "    data = pd.read_csv(file_path)\n",
    "    shuffled_data = data.sample(frac=1, random_state=42) \n",
    "    split_data = np.array_split(shuffled_data, num_parts) \n",
    "    base_filename = os.path.splitext(os.path.basename(file_path))[0]\n",
    "    for i, part in enumerate(split_data):\n",
    "        output_path = os.path.join(output_folder, f\"sp_{uuid.uuid4()}.csv\")\n",
    "        part.to_csv(output_path, index=False)\n",
    "        print(f\"Đã lưu {output_path}\")\n"
   ]
  }
 ],
 "metadata": {
  "kernelspec": {
   "display_name": "venv",
   "language": "python",
   "name": "python3"
  },
  "language_info": {
   "codemirror_mode": {
    "name": "ipython",
    "version": 3
   },
   "file_extension": ".py",
   "mimetype": "text/x-python",
   "name": "python",
   "nbconvert_exporter": "python",
   "pygments_lexer": "ipython3",
   "version": "3.12.7"
  }
 },
 "nbformat": 4,
 "nbformat_minor": 2
}
