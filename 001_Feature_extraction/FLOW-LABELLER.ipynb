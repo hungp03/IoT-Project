{
 "cells": [
  {
   "cell_type": "code",
   "execution_count": 2,
   "metadata": {},
   "outputs": [],
   "source": [
    "import numpy as np\n",
    "import pandas as pd\n",
    "import os"
   ]
  },
  {
   "cell_type": "markdown",
   "metadata": {},
   "source": [
    "### Discovering csv extension files under \"csvs\" folder."
   ]
  },
  {
   "cell_type": "code",
   "execution_count": 3,
   "metadata": {},
   "outputs": [
    {
     "data": {
      "text/plain": [
       "['../csvs\\\\benign-dec.pcap_Flow.csv',\n",
       " '../csvs\\\\dos-synflooding-1-dec.pcap_Flow.csv',\n",
       " '../csvs\\\\dos-synflooding-2-dec.pcap_Flow.csv',\n",
       " '../csvs\\\\dos-synflooding-3-dec.pcap_Flow.csv',\n",
       " '../csvs\\\\dos-synflooding-4-dec.pcap_Flow.csv',\n",
       " '../csvs\\\\dos-synflooding-5-dec.pcap_Flow.csv',\n",
       " '../csvs\\\\dos-synflooding-6-dec.pcap_Flow.csv',\n",
       " '../csvs\\\\Edge Port Scanning attack.pcap_Flow.csv',\n",
       " '../csvs\\\\mirai-ackflooding-1-dec.pcap_Flow.csv',\n",
       " '../csvs\\\\mirai-ackflooding-2-dec.pcap_Flow.csv',\n",
       " '../csvs\\\\mirai-ackflooding-3-dec.pcap_Flow.csv',\n",
       " '../csvs\\\\mirai-ackflooding-4-dec.pcap_Flow.csv',\n",
       " '../csvs\\\\mirai-hostbruteforce-1-dec.pcap_Flow.csv',\n",
       " '../csvs\\\\mirai-hostbruteforce-2-dec.pcap_Flow.csv',\n",
       " '../csvs\\\\mirai-hostbruteforce-3-dec.pcap_Flow.csv',\n",
       " '../csvs\\\\mirai-hostbruteforce-4-dec.pcap_Flow.csv',\n",
       " '../csvs\\\\mirai-hostbruteforce-5-dec.pcap_Flow.csv',\n",
       " '../csvs\\\\mirai-httpflooding-1-dec.pcap_Flow.csv',\n",
       " '../csvs\\\\mirai-httpflooding-2-dec.pcap_Flow.csv',\n",
       " '../csvs\\\\mirai-httpflooding-3-dec.pcap_Flow.csv',\n",
       " '../csvs\\\\mirai-httpflooding-4-dec.pcap_Flow.csv',\n",
       " '../csvs\\\\mirai-udpflooding-1-dec.pcap_Flow.csv',\n",
       " '../csvs\\\\mirai-udpflooding-2-dec.pcap_Flow.csv',\n",
       " '../csvs\\\\mirai-udpflooding-3-dec.pcap_Flow.csv',\n",
       " '../csvs\\\\mirai-udpflooding-4-dec.pcap_Flow.csv',\n",
       " '../csvs\\\\mitm-arpspoofing-1-dec.pcap_Flow.csv',\n",
       " '../csvs\\\\mitm-arpspoofing-2-dec.pcap_Flow.csv',\n",
       " '../csvs\\\\mitm-arpspoofing-3-dec.pcap_Flow.csv',\n",
       " '../csvs\\\\mitm-arpspoofing-4-dec.pcap_Flow.csv',\n",
       " '../csvs\\\\mitm-arpspoofing-5-dec.pcap_Flow.csv',\n",
       " '../csvs\\\\mitm-arpspoofing-6-dec.pcap_Flow.csv',\n",
       " '../csvs\\\\scan-hostport-1-dec.pcap_Flow.csv',\n",
       " '../csvs\\\\scan-hostport-2-dec.pcap_Flow.csv',\n",
       " '../csvs\\\\scan-hostport-3-dec.pcap_Flow.csv',\n",
       " '../csvs\\\\scan-hostport-4-dec.pcap_Flow.csv',\n",
       " '../csvs\\\\scan-hostport-5-dec.pcap_Flow.csv',\n",
       " '../csvs\\\\scan-hostport-6-dec.pcap_Flow.csv',\n",
       " '../csvs\\\\scan-portos-1-dec.pcap_Flow.csv',\n",
       " '../csvs\\\\scan-portos-2-dec.pcap_Flow.csv',\n",
       " '../csvs\\\\scan-portos-3-dec.pcap_Flow.csv',\n",
       " '../csvs\\\\scan-portos-4-dec.pcap_Flow.csv',\n",
       " '../csvs\\\\scan-portos-5-dec.pcap_Flow.csv',\n",
       " '../csvs\\\\scan-portos-6-dec.pcap_Flow.csv',\n",
       " '../csvs\\\\UDP_DDoS_00001.pcap_Flow.csv']"
      ]
     },
     "execution_count": 3,
     "metadata": {},
     "output_type": "execute_result"
    }
   ],
   "source": [
    "def find_the_way(path,file_format):\n",
    "    files_add = []\n",
    "    # r=root, d=directories, f = files\n",
    "    for r, d, f in os.walk(path):\n",
    "        for file in f:\n",
    "            if file_format in file:\n",
    "                files_add.append(os.path.join(r, file))  \n",
    "    return files_add\n",
    "name_list=find_the_way('../csvs','.csv')\n",
    "name_list"
   ]
  },
  {
   "cell_type": "markdown",
   "metadata": {},
   "source": [
    "### SYN Flood"
   ]
  },
  {
   "cell_type": "markdown",
   "metadata": {},
   "source": [
    "#### IOT NID 1 - 2"
   ]
  },
  {
   "cell_type": "code",
   "execution_count": 4,
   "metadata": {},
   "outputs": [],
   "source": [
    "file_list=['../csvs/dos-synflooding-1-dec.pcap_Flow.csv',\n",
    " '../csvs/dos-synflooding-2-dec.pcap_Flow.csv']\n",
    "\n",
    "for  file in file_list:\n",
    "    df=pd.read_csv(file)\n",
    "    labeller=df[['Src IP', 'Dst IP', 'Dst Port', 'Protocol']]\n",
    "    \n",
    "    # RULES  ##################################################\n",
    "    label=[]\n",
    "    for i in labeller.values:\n",
    "        if i[0][0:4]==\"222.\":\n",
    "            if i[1]=='192.168.0.13':\n",
    "                if i[2]==554:\n",
    "                    if i[3]==6:\n",
    "                        label.append(1)\n",
    "        else:label.append(0)\n",
    "    # RULES  ##################################################\n",
    "    \n",
    "    df['Label']=label\n",
    "    df.to_csv(file,index=False)"
   ]
  },
  {
   "cell_type": "markdown",
   "metadata": {},
   "source": [
    "#### IoT-NID 3"
   ]
  },
  {
   "cell_type": "code",
   "execution_count": 5,
   "metadata": {},
   "outputs": [],
   "source": [
    "file_list=[ '../csvs/dos-synflooding-3-dec.pcap_Flow.csv']\n",
    "\n",
    "for  file in file_list:\n",
    "    df=pd.read_csv(file)\n",
    "    labeller=df[['Src IP', 'Dst IP', 'Dst Port', 'Protocol']]\n",
    "    \n",
    "    # RULES  ##################################################\n",
    "    label=[]\n",
    "    for i in labeller.values:\n",
    "        if i[0][0:4]==\"111.\":\n",
    "            if i[1]=='192.168.0.13':\n",
    "                if i[2]==554:\n",
    "                    if i[3]==6:\n",
    "                        label.append(1)\n",
    "        else:label.append(0)\n",
    "    # RULES  ##################################################\n",
    "    \n",
    "    df['Label']=label\n",
    "    df.to_csv(file,index=False)"
   ]
  },
  {
   "cell_type": "markdown",
   "metadata": {},
   "source": [
    "#### IoT-NID 4, 5, 6"
   ]
  },
  {
   "cell_type": "code",
   "execution_count": 6,
   "metadata": {},
   "outputs": [],
   "source": [
    "file_list=[ '../csvs/dos-synflooding-4-dec.pcap_Flow.csv',\n",
    " '../csvs/dos-synflooding-5-dec.pcap_Flow.csv',\n",
    " '../csvs/dos-synflooding-6-dec.pcap_Flow.csv']\n",
    "\n",
    "for  file in file_list:\n",
    "    df=pd.read_csv(file)\n",
    "    labeller=df[['Src IP', 'Dst IP', 'Dst Port', 'Protocol']]\n",
    "    \n",
    "    # RULES  ##################################################\n",
    "    label=[]\n",
    "    for i in labeller.values:\n",
    "        if i[0][0:4]==\"111.\":\n",
    "            if i[1]=='192.168.0.24':\n",
    "                if i[2]==19604:\n",
    "                    if i[3]==6:\n",
    "                        label.append(1)\n",
    "        else:label.append(0)\n",
    "    # RULES  ##################################################\n",
    "    \n",
    "    df['Label']=label\n",
    "    df.to_csv(file,index=False)"
   ]
  },
  {
   "cell_type": "markdown",
   "metadata": {},
   "source": [
    "### HTTP Flood"
   ]
  },
  {
   "cell_type": "code",
   "execution_count": 7,
   "metadata": {},
   "outputs": [
    {
     "data": {
      "text/plain": [
       "['../csvs\\\\mirai-httpflooding-1-dec.pcap_Flow.csv',\n",
       " '../csvs\\\\mirai-httpflooding-2-dec.pcap_Flow.csv',\n",
       " '../csvs\\\\mirai-httpflooding-3-dec.pcap_Flow.csv',\n",
       " '../csvs\\\\mirai-httpflooding-4-dec.pcap_Flow.csv']"
      ]
     },
     "execution_count": 7,
     "metadata": {},
     "output_type": "execute_result"
    }
   ],
   "source": [
    "name_list=find_the_way('../csvs','http')\n",
    "name_list"
   ]
  },
  {
   "cell_type": "code",
   "execution_count": 8,
   "metadata": {},
   "outputs": [
    {
     "name": "stdout",
     "output_type": "stream",
     "text": [
      "../csvs\\mirai-httpflooding-1-dec.pcap_Flow.csv\n",
      "../csvs\\mirai-httpflooding-2-dec.pcap_Flow.csv\n",
      "../csvs\\mirai-httpflooding-3-dec.pcap_Flow.csv\n",
      "../csvs\\mirai-httpflooding-4-dec.pcap_Flow.csv\n"
     ]
    }
   ],
   "source": [
    "for  file in name_list:\n",
    "    df=pd.read_csv(file)\n",
    "    print(file)\n",
    "    labeller=df[['Src IP', 'Dst IP', 'Dst Port', 'Protocol']]\n",
    "\n",
    "    # RULES  ##################################################\n",
    "    label=[]\n",
    "    for i in labeller.values:\n",
    "        if i[1]=='210.89.164.90':\n",
    "            label.append(1)\n",
    "        else:label.append(0)\n",
    "    # RULES  ##################################################\n",
    "    df['Label']=label\n",
    "    df.to_csv(file,index=False)"
   ]
  },
  {
   "cell_type": "markdown",
   "metadata": {},
   "source": [
    "### ACK FLOOD"
   ]
  },
  {
   "cell_type": "code",
   "execution_count": 9,
   "metadata": {},
   "outputs": [
    {
     "data": {
      "text/plain": [
       "['../csvs\\\\Edge Port Scanning attack.pcap_Flow.csv',\n",
       " '../csvs\\\\mirai-ackflooding-1-dec.pcap_Flow.csv',\n",
       " '../csvs\\\\mirai-ackflooding-2-dec.pcap_Flow.csv',\n",
       " '../csvs\\\\mirai-ackflooding-3-dec.pcap_Flow.csv',\n",
       " '../csvs\\\\mirai-ackflooding-4-dec.pcap_Flow.csv']"
      ]
     },
     "execution_count": 9,
     "metadata": {},
     "output_type": "execute_result"
    }
   ],
   "source": [
    "name_list=find_the_way('../csvs','ack')\n",
    "name_list"
   ]
  },
  {
   "cell_type": "code",
   "execution_count": 10,
   "metadata": {},
   "outputs": [
    {
     "name": "stdout",
     "output_type": "stream",
     "text": [
      "../csvs\\Edge Port Scanning attack.pcap_Flow.csv\n",
      "../csvs\\mirai-ackflooding-1-dec.pcap_Flow.csv\n",
      "../csvs\\mirai-ackflooding-2-dec.pcap_Flow.csv\n",
      "../csvs\\mirai-ackflooding-3-dec.pcap_Flow.csv\n",
      "../csvs\\mirai-ackflooding-4-dec.pcap_Flow.csv\n"
     ]
    }
   ],
   "source": [
    "for  file in name_list:\n",
    "    df=pd.read_csv(file)\n",
    "    print(file)\n",
    "    labeller=df[['Src IP', 'Dst IP', 'Dst Port', 'Protocol']]\n",
    "\n",
    "    # RULES  ##################################################\n",
    "    label=[]\n",
    "    for i in labeller.values:\n",
    "        if i[1]=='210.89.164.90':\n",
    "            label.append(1)\n",
    "        else:label.append(0)\n",
    "    # RULES  ##################################################\n",
    "    df['Label']=label\n",
    "    df.to_csv(file,index=False)"
   ]
  },
  {
   "cell_type": "markdown",
   "metadata": {},
   "source": [
    "### UDP FLOOD"
   ]
  },
  {
   "cell_type": "code",
   "execution_count": 11,
   "metadata": {},
   "outputs": [
    {
     "data": {
      "text/plain": [
       "['../csvs\\\\mirai-udpflooding-1-dec.pcap_Flow.csv',\n",
       " '../csvs\\\\mirai-udpflooding-2-dec.pcap_Flow.csv',\n",
       " '../csvs\\\\mirai-udpflooding-3-dec.pcap_Flow.csv',\n",
       " '../csvs\\\\mirai-udpflooding-4-dec.pcap_Flow.csv']"
      ]
     },
     "execution_count": 11,
     "metadata": {},
     "output_type": "execute_result"
    }
   ],
   "source": [
    "name_list=find_the_way('../csvs','udp')\n",
    "name_list"
   ]
  },
  {
   "cell_type": "code",
   "execution_count": 12,
   "metadata": {},
   "outputs": [
    {
     "name": "stdout",
     "output_type": "stream",
     "text": [
      "../csvs\\mirai-udpflooding-1-dec.pcap_Flow.csv\n",
      "../csvs\\mirai-udpflooding-2-dec.pcap_Flow.csv\n",
      "../csvs\\mirai-udpflooding-3-dec.pcap_Flow.csv\n",
      "../csvs\\mirai-udpflooding-4-dec.pcap_Flow.csv\n"
     ]
    }
   ],
   "source": [
    "for  file in name_list:\n",
    "    df=pd.read_csv(file)\n",
    "    print(file)\n",
    "    labeller=df[['Src IP', 'Dst IP', 'Dst Port', 'Protocol']]\n",
    "\n",
    "    # RULES  ##################################################\n",
    "    label=[]\n",
    "    for i in labeller.values:\n",
    "        if i[1]=='210.89.164.90':\n",
    "            label.append(1)\n",
    "        else:label.append(0)\n",
    "    # RULES  ##################################################\n",
    "    df['Label']=label\n",
    "    df.to_csv(file,index=False)"
   ]
  },
  {
   "cell_type": "code",
   "execution_count": 13,
   "metadata": {},
   "outputs": [
    {
     "data": {
      "text/plain": [
       "['../csvs\\\\UDP_DDoS_00001.pcap_Flow.csv']"
      ]
     },
     "execution_count": 13,
     "metadata": {},
     "output_type": "execute_result"
    }
   ],
   "source": [
    "name_list=find_the_way('../csvs','UDP')\n",
    "name_list"
   ]
  },
  {
   "cell_type": "code",
   "execution_count": 14,
   "metadata": {},
   "outputs": [
    {
     "name": "stdout",
     "output_type": "stream",
     "text": [
      "../csvs\\UDP_DDoS_00001.pcap_Flow.csv\n",
      "Label\n",
      "0         9\n",
      "1    262144\n",
      "dtype: int64\n"
     ]
    }
   ],
   "source": [
    "for  file in name_list:\n",
    "    df=pd.read_csv(file)\n",
    "    print(file)\n",
    "    labeller=df[['Src IP', 'Dst IP', 'Dst Port', 'Protocol']]\n",
    "\n",
    "    # RULES  ##################################################\n",
    "    label=[]\n",
    "    for i in labeller.values:\n",
    "        if i[3]==17:\n",
    "            if (i[0]=='192.168.100.147') or (i[0]=='192.168.100.148') or (i[0]=='192.168.100.149') or (i[0]=='192.168.100.150')  :\n",
    "                label.append(1)\n",
    "            else:\n",
    "                label.append(0)\n",
    "        else:label.append(0)\n",
    "    # RULES  ##################################################\n",
    "    df['Label']=label\n",
    "    df.to_csv(file,index=False)\n",
    "    print(df.groupby(\"Label\").size())"
   ]
  },
  {
   "cell_type": "markdown",
   "metadata": {},
   "source": [
    "### MitM ARP"
   ]
  },
  {
   "cell_type": "code",
   "execution_count": 15,
   "metadata": {},
   "outputs": [
    {
     "data": {
      "text/plain": [
       "['../csvs\\\\mitm-arpspoofing-1-dec.pcap_Flow.csv',\n",
       " '../csvs\\\\mitm-arpspoofing-2-dec.pcap_Flow.csv',\n",
       " '../csvs\\\\mitm-arpspoofing-3-dec.pcap_Flow.csv',\n",
       " '../csvs\\\\mitm-arpspoofing-4-dec.pcap_Flow.csv',\n",
       " '../csvs\\\\mitm-arpspoofing-5-dec.pcap_Flow.csv',\n",
       " '../csvs\\\\mitm-arpspoofing-6-dec.pcap_Flow.csv']"
      ]
     },
     "execution_count": 15,
     "metadata": {},
     "output_type": "execute_result"
    }
   ],
   "source": [
    "name_list=find_the_way('../csvs','mitm-arpspoofing')\n",
    "name_list"
   ]
  },
  {
   "cell_type": "code",
   "execution_count": 16,
   "metadata": {},
   "outputs": [],
   "source": [
    "name_list = ['../csvs\\\\mitm-arpspoofing-1-dec.pcap_Flow.csv',\n",
    " '../csvs\\\\mitm-arpspoofing-2-dec.pcap_Flow.csv',\n",
    " '../csvs\\\\mitm-arpspoofing-3-dec.pcap_Flow.csv']"
   ]
  },
  {
   "cell_type": "code",
   "execution_count": 17,
   "metadata": {},
   "outputs": [
    {
     "name": "stdout",
     "output_type": "stream",
     "text": [
      "Processing file: ../csvs\\mitm-arpspoofing-1-dec.pcap_Flow.csv\n",
      "Label\n",
      "0    141\n",
      "1     50\n",
      "dtype: int64\n",
      "Processing file: ../csvs\\mitm-arpspoofing-2-dec.pcap_Flow.csv\n",
      "Label\n",
      "0    200\n",
      "1     25\n",
      "dtype: int64\n",
      "Processing file: ../csvs\\mitm-arpspoofing-3-dec.pcap_Flow.csv\n",
      "Label\n",
      "0    173\n",
      "1     23\n",
      "dtype: int64\n"
     ]
    }
   ],
   "source": [
    "for file in name_list:\n",
    "    df = pd.read_csv(file)\n",
    "    print(f\"Processing file: {file}\")\n",
    "    labeller = df[['Src IP', 'Dst IP', 'Dst Port', 'Protocol']]\n",
    "\n",
    "    label = []\n",
    "    for i in labeller.values:\n",
    "        if (i[0] == '192.168.0.16' and i[1] == '192.168.0.13') or (i[0] == '192.168.0.13' and i[1] == '192.168.0.16'):\n",
    "            label.append(1)\n",
    "        else:\n",
    "            label.append(0)\n",
    "    df['Label'] = label\n",
    "    df.to_csv(file, index=False)\n",
    "    print(df.groupby(\"Label\").size())"
   ]
  },
  {
   "cell_type": "code",
   "execution_count": 18,
   "metadata": {},
   "outputs": [
    {
     "name": "stdout",
     "output_type": "stream",
     "text": [
      "Processing file: ../csvs\\mitm-arpspoofing-4-dec.pcap_Flow.csv\n",
      "Label\n",
      "0    118\n",
      "1    234\n",
      "dtype: int64\n",
      "Processing file: ../csvs\\mitm-arpspoofing-5-dec.pcap_Flow.csv\n",
      "Label\n",
      "0    164\n",
      "1    259\n",
      "dtype: int64\n",
      "Processing file: ../csvs\\mitm-arpspoofing-6-dec.pcap_Flow.csv\n",
      "Label\n",
      "0    264\n",
      "1    255\n",
      "dtype: int64\n"
     ]
    }
   ],
   "source": [
    "name_list = ['../csvs\\\\mitm-arpspoofing-4-dec.pcap_Flow.csv',\n",
    " '../csvs\\\\mitm-arpspoofing-5-dec.pcap_Flow.csv',\n",
    " '../csvs\\\\mitm-arpspoofing-6-dec.pcap_Flow.csv']\n",
    "\n",
    "for file in name_list:\n",
    "    df = pd.read_csv(file)\n",
    "    print(f\"Processing file: {file}\")\n",
    "    labeller = df[['Src IP', 'Dst IP', 'Dst Port', 'Protocol']]\n",
    "    label = []\n",
    "    for i in labeller.values:\n",
    "        if i[0] == '192.168.0.24':\n",
    "            label.append(1)\n",
    "        else:\n",
    "            label.append(0)\n",
    "    df['Label'] = label\n",
    "\n",
    "    df.to_csv(file, index=False)\n",
    "    print(df.groupby(\"Label\").size())"
   ]
  },
  {
   "cell_type": "markdown",
   "metadata": {},
   "source": [
    "### PORT SCAN"
   ]
  },
  {
   "cell_type": "code",
   "execution_count": 19,
   "metadata": {},
   "outputs": [
    {
     "data": {
      "text/plain": [
       "['../csvs\\\\scan-hostport-1-dec.pcap_Flow.csv',\n",
       " '../csvs\\\\scan-hostport-2-dec.pcap_Flow.csv',\n",
       " '../csvs\\\\scan-hostport-3-dec.pcap_Flow.csv',\n",
       " '../csvs\\\\scan-hostport-4-dec.pcap_Flow.csv',\n",
       " '../csvs\\\\scan-hostport-5-dec.pcap_Flow.csv',\n",
       " '../csvs\\\\scan-hostport-6-dec.pcap_Flow.csv']"
      ]
     },
     "execution_count": 19,
     "metadata": {},
     "output_type": "execute_result"
    }
   ],
   "source": [
    "name_list=find_the_way('../csvs','hostp')\n",
    "name_list"
   ]
  },
  {
   "cell_type": "code",
   "execution_count": 20,
   "metadata": {},
   "outputs": [],
   "source": [
    "name_list=['../csvs\\\\scan-hostport-1-dec.pcap_Flow.csv',\n",
    " '../csvs\\\\scan-hostport-2-dec.pcap_Flow.csv',\n",
    " '../csvs\\\\scan-hostport-3-dec.pcap_Flow.csv']"
   ]
  },
  {
   "cell_type": "code",
   "execution_count": 21,
   "metadata": {},
   "outputs": [
    {
     "name": "stdout",
     "output_type": "stream",
     "text": [
      "../csvs\\scan-hostport-1-dec.pcap_Flow.csv\n",
      "Label\n",
      "0     59\n",
      "1    969\n",
      "dtype: int64\n",
      "../csvs\\scan-hostport-2-dec.pcap_Flow.csv\n",
      "Label\n",
      "0      58\n",
      "1    1006\n",
      "dtype: int64\n",
      "../csvs\\scan-hostport-3-dec.pcap_Flow.csv\n",
      "Label\n",
      "0     60\n",
      "1    973\n",
      "dtype: int64\n"
     ]
    }
   ],
   "source": [
    "for  file in name_list:\n",
    "    df=pd.read_csv(file)\n",
    "    print(file)\n",
    "    labeller=df[['Src IP', 'Dst IP', 'Dst Port', 'Protocol']]\n",
    "\n",
    "    # RULES  ##################################################\n",
    "    label=[]\n",
    "    for i in labeller.values:\n",
    "        if (i[0]=='192.168.0.15') and (i[1]=='192.168.0.13') :\n",
    "            label.append(1)\n",
    "        else:\n",
    "            label.append(0)\n",
    "    # RULES  ##################################################\n",
    "    df['Label']=label\n",
    "    df.to_csv(file,index=False)\n",
    "    print(df.groupby(\"Label\").size())"
   ]
  },
  {
   "cell_type": "code",
   "execution_count": 22,
   "metadata": {},
   "outputs": [],
   "source": [
    "name_list=['../csvs\\\\scan-hostport-4-dec.pcap_Flow.csv',\n",
    " '../csvs\\\\scan-hostport-5-dec.pcap_Flow.csv',\n",
    " '../csvs\\\\scan-hostport-6-dec.pcap_Flow.csv']\n",
    "\n",
    "# RULE  ip.src == 192.168.0.15 and ip.dst == 192.168.0.24 "
   ]
  },
  {
   "cell_type": "code",
   "execution_count": 23,
   "metadata": {},
   "outputs": [
    {
     "name": "stdout",
     "output_type": "stream",
     "text": [
      "../csvs\\scan-hostport-4-dec.pcap_Flow.csv\n",
      "Label\n",
      "0    103\n",
      "1    994\n",
      "dtype: int64\n",
      "../csvs\\scan-hostport-5-dec.pcap_Flow.csv\n",
      "Label\n",
      "0     64\n",
      "1    997\n",
      "dtype: int64\n",
      "../csvs\\scan-hostport-6-dec.pcap_Flow.csv\n",
      "Label\n",
      "0      51\n",
      "1    1914\n",
      "dtype: int64\n"
     ]
    }
   ],
   "source": [
    "for  file in name_list:\n",
    "    df=pd.read_csv(file)\n",
    "    print(file)\n",
    "    labeller=df[['Src IP', 'Dst IP', 'Dst Port', 'Protocol']]\n",
    "\n",
    "    # RULES  ##################################################\n",
    "    label=[]\n",
    "    for i in labeller.values:\n",
    "        if (i[0]=='192.168.0.15') and (i[1]=='192.168.0.24') :\n",
    "            label.append(1)\n",
    "        else:\n",
    "            label.append(0)\n",
    "    # RULES  ##################################################\n",
    "    df['Label']=label\n",
    "    df.to_csv(file,index=False)\n",
    "    print(df.groupby(\"Label\").size())"
   ]
  },
  {
   "cell_type": "code",
   "execution_count": 24,
   "metadata": {},
   "outputs": [
    {
     "data": {
      "text/plain": [
       "['../csvs\\\\mirai-hostbruteforce-1-dec.pcap_Flow.csv',\n",
       " '../csvs\\\\mirai-hostbruteforce-2-dec.pcap_Flow.csv',\n",
       " '../csvs\\\\mirai-hostbruteforce-3-dec.pcap_Flow.csv',\n",
       " '../csvs\\\\mirai-hostbruteforce-4-dec.pcap_Flow.csv',\n",
       " '../csvs\\\\mirai-hostbruteforce-5-dec.pcap_Flow.csv']"
      ]
     },
     "execution_count": 24,
     "metadata": {},
     "output_type": "execute_result"
    }
   ],
   "source": [
    "file_list=find_the_way('../csvs','brute')\n",
    "file_list"
   ]
  },
  {
   "cell_type": "code",
   "execution_count": 25,
   "metadata": {},
   "outputs": [
    {
     "name": "stdout",
     "output_type": "stream",
     "text": [
      "Label\n",
      "0    490\n",
      "1    119\n",
      "dtype: int64\n",
      "Label\n",
      "0    992\n",
      "1    180\n",
      "dtype: int64\n",
      "Label\n",
      "0    835\n",
      "1    149\n",
      "dtype: int64\n"
     ]
    }
   ],
   "source": [
    "file_list = ['../csvs\\\\mirai-hostbruteforce-1-dec.pcap_Flow.csv',\n",
    " '../csvs\\\\mirai-hostbruteforce-3-dec.pcap_Flow.csv',\n",
    " '../csvs\\\\mirai-hostbruteforce-5-dec.pcap_Flow.csv']\n",
    "\n",
    "for  file in file_list:\n",
    "    df=pd.read_csv(file)\n",
    "    labeller=df[['Src IP', 'Dst IP', 'Dst Port', 'Protocol']]\n",
    "    \n",
    "    # RULES  ##################################################\n",
    "    label=[]\n",
    "    for i in labeller.values:\n",
    "        if i[0]==\"192.168.0.13\":\n",
    "            if i[3]==6:\n",
    "                label.append(1)\n",
    "            else:\n",
    "                label.append(0)\n",
    "                \n",
    "        else:label.append(0)\n",
    "    # RULES  ##################################################\n",
    "    \n",
    "    df['Label']=label\n",
    "    df.to_csv(file,index=False)\n",
    "    print(df.groupby(\"Label\").size())"
   ]
  },
  {
   "cell_type": "code",
   "execution_count": 26,
   "metadata": {},
   "outputs": [
    {
     "name": "stdout",
     "output_type": "stream",
     "text": [
      "Label\n",
      "0    881\n",
      "1    219\n",
      "dtype: int64\n",
      "Label\n",
      "0    692\n",
      "1    546\n",
      "dtype: int64\n"
     ]
    }
   ],
   "source": [
    "file_list=[\n",
    " '../csvs\\\\mirai-hostbruteforce-2-dec.pcap_Flow.csv',\n",
    " '../csvs\\\\mirai-hostbruteforce-4-dec.pcap_Flow.csv']\n",
    "\n",
    "for  file in file_list:\n",
    "    df=pd.read_csv(file)\n",
    "    labeller=df[['Src IP', 'Dst IP', 'Dst Port', 'Protocol']]\n",
    "    \n",
    "    # RULES  ##################################################\n",
    "    label=[]\n",
    "    for i in labeller.values:\n",
    "        if i[0]==\"192.168.0.24\":\n",
    "            if i[3]==6:\n",
    "                label.append(1)\n",
    "            else:\n",
    "                label.append(0)\n",
    "                \n",
    "        else:label.append(0)\n",
    "    # RULES  ##################################################\n",
    "    \n",
    "    df['Label']=label\n",
    "    df.to_csv(file,index=False)\n",
    "    print(df.groupby(\"Label\").size())"
   ]
  },
  {
   "cell_type": "markdown",
   "metadata": {},
   "source": [
    "### SCANPORT OS"
   ]
  },
  {
   "cell_type": "code",
   "execution_count": 27,
   "metadata": {},
   "outputs": [
    {
     "data": {
      "text/plain": [
       "['../csvs\\\\scan-portos-1-dec.pcap_Flow.csv',\n",
       " '../csvs\\\\scan-portos-2-dec.pcap_Flow.csv',\n",
       " '../csvs\\\\scan-portos-3-dec.pcap_Flow.csv',\n",
       " '../csvs\\\\scan-portos-4-dec.pcap_Flow.csv',\n",
       " '../csvs\\\\scan-portos-5-dec.pcap_Flow.csv',\n",
       " '../csvs\\\\scan-portos-6-dec.pcap_Flow.csv']"
      ]
     },
     "execution_count": 27,
     "metadata": {},
     "output_type": "execute_result"
    }
   ],
   "source": [
    "name_list=find_the_way('../csvs','scan-portos')\n",
    "name_list"
   ]
  },
  {
   "cell_type": "code",
   "execution_count": 28,
   "metadata": {},
   "outputs": [],
   "source": [
    "name_list=['../csvs\\\\scan-portos-1-dec.pcap_Flow.csv',\n",
    " '../csvs\\\\scan-portos-2-dec.pcap_Flow.csv',\n",
    " '../csvs\\\\scan-portos-3-dec.pcap_Flow.csv']\n",
    "# RULE ip.src == 192.168.0.15 and ip.dst == 192.168.0.13"
   ]
  },
  {
   "cell_type": "code",
   "execution_count": 29,
   "metadata": {},
   "outputs": [
    {
     "name": "stdout",
     "output_type": "stream",
     "text": [
      "../csvs\\scan-portos-1-dec.pcap_Flow.csv\n",
      "Label\n",
      "0     215\n",
      "1    1077\n",
      "dtype: int64\n",
      "../csvs\\scan-portos-2-dec.pcap_Flow.csv\n",
      "Label\n",
      "0     238\n",
      "1    1139\n",
      "dtype: int64\n",
      "../csvs\\scan-portos-3-dec.pcap_Flow.csv\n",
      "Label\n",
      "0     142\n",
      "1    1064\n",
      "dtype: int64\n"
     ]
    }
   ],
   "source": [
    "for  file in name_list:\n",
    "    df=pd.read_csv(file)\n",
    "    print(file)\n",
    "    labeller=df[['Src IP', 'Dst IP', 'Dst Port', 'Protocol']]\n",
    "\n",
    "    # RULES  ##################################################\n",
    "    label=[]\n",
    "    for i in labeller.values:\n",
    "        if (i[0]=='192.168.0.15') and (i[1]=='192.168.0.13') :\n",
    "            label.append(1)\n",
    "        else:\n",
    "            label.append(0)\n",
    "    # RULES  ##################################################\n",
    "    df['Label']=label\n",
    "    df.to_csv(file,index=False)\n",
    "    print(df.groupby(\"Label\").size())"
   ]
  },
  {
   "cell_type": "code",
   "execution_count": 30,
   "metadata": {},
   "outputs": [],
   "source": [
    "name_list=['../csvs\\\\scan-portos-4-dec.pcap_Flow.csv',\n",
    " '../csvs\\\\scan-portos-5-dec.pcap_Flow.csv',\n",
    " '../csvs\\\\scan-portos-6-dec.pcap_Flow.csv']\n",
    "\n",
    "# RULE  ip.src == 192.168.0.15 and ip.dst == 192.168.0.24 "
   ]
  },
  {
   "cell_type": "code",
   "execution_count": 31,
   "metadata": {},
   "outputs": [
    {
     "name": "stdout",
     "output_type": "stream",
     "text": [
      "../csvs\\scan-portos-4-dec.pcap_Flow.csv\n",
      "Label\n",
      "0     45\n",
      "1    971\n",
      "dtype: int64\n",
      "../csvs\\scan-portos-5-dec.pcap_Flow.csv\n",
      "Label\n",
      "0     122\n",
      "1    1909\n",
      "dtype: int64\n",
      "../csvs\\scan-portos-6-dec.pcap_Flow.csv\n",
      "Label\n",
      "0      43\n",
      "1    2971\n",
      "dtype: int64\n"
     ]
    }
   ],
   "source": [
    "for  file in name_list:\n",
    "    df=pd.read_csv(file)\n",
    "    print(file)\n",
    "    labeller=df[['Src IP', 'Dst IP', 'Dst Port', 'Protocol']]\n",
    "\n",
    "    # RULES  ##################################################\n",
    "    label=[]\n",
    "    for i in labeller.values:\n",
    "        if (i[0]=='192.168.0.15') and (i[1]=='192.168.0.24') :\n",
    "            label.append(1)\n",
    "        else:\n",
    "            label.append(0)\n",
    "    # RULES  ##################################################\n",
    "    df['Label']=label\n",
    "    df.to_csv(file,index=False)\n",
    "    print(df.groupby(\"Label\").size())"
   ]
  },
  {
   "cell_type": "markdown",
   "metadata": {},
   "source": [
    "### EDGE-IOT\n"
   ]
  },
  {
   "cell_type": "code",
   "execution_count": 33,
   "metadata": {},
   "outputs": [
    {
     "data": {
      "text/plain": [
       "['../csvs\\\\Edge Port Scanning attack.pcap_Flow.csv']"
      ]
     },
     "execution_count": 33,
     "metadata": {},
     "output_type": "execute_result"
    }
   ],
   "source": [
    "name_list=find_the_way('../csvs','Ed')\n",
    "name_list"
   ]
  },
  {
   "cell_type": "code",
   "execution_count": 34,
   "metadata": {},
   "outputs": [
    {
     "name": "stdout",
     "output_type": "stream",
     "text": [
      "../csvs\\Edge Port Scanning attack.pcap_Flow.csv\n",
      "Label\n",
      "0     298\n",
      "1    9987\n",
      "dtype: int64\n"
     ]
    }
   ],
   "source": [
    "for  file in name_list:\n",
    "    df=pd.read_csv(file)\n",
    "    print(file)\n",
    "    labeller=df[['Src IP', 'Dst IP', 'Dst Port', 'Protocol']]\n",
    "\n",
    "    # RULES  ##################################################\n",
    "    label=[]\n",
    "    for i in labeller.values:\n",
    "        if (i[0]=='192.168.0.170') :\n",
    "            label.append(1)\n",
    "        else:\n",
    "            label.append(0)\n",
    "    # RULES  ##################################################\n",
    "    df['Label']=label\n",
    "    df.to_csv(file,index=False)\n",
    "    print(df.groupby(\"Label\").size())"
   ]
  },
  {
   "cell_type": "code",
   "execution_count": 38,
   "metadata": {},
   "outputs": [
    {
     "data": {
      "text/plain": [
       "['../csvs\\\\Edge Password attacks.pcap_Flow.csv']"
      ]
     },
     "execution_count": 38,
     "metadata": {},
     "output_type": "execute_result"
    }
   ],
   "source": [
    "file_list=find_the_way('../csvs','Pass')\n",
    "file_list"
   ]
  },
  {
   "cell_type": "code",
   "execution_count": 39,
   "metadata": {},
   "outputs": [
    {
     "name": "stdout",
     "output_type": "stream",
     "text": [
      "Label\n",
      "0    101721\n",
      "1     87237\n",
      "dtype: int64\n"
     ]
    }
   ],
   "source": [
    "for  file in file_list:\n",
    "    df=pd.read_csv(file)\n",
    "    labeller=df[['Src IP', 'Dst IP', 'Dst Port', 'Protocol']]\n",
    "    \n",
    "    # RULES  ##################################################\n",
    "    label=[]\n",
    "    for i in labeller.values:\n",
    "        if i[0]==\"192.168.0.170\":\n",
    "\n",
    "                label.append(1)\n",
    "\n",
    "                \n",
    "        else:label.append(0)\n",
    "    # RULES  ##################################################\n",
    "    \n",
    "    df['Label']=label\n",
    "    df.to_csv(file,index=False)\n",
    "    print(df.groupby(\"Label\").size())"
   ]
  },
  {
   "cell_type": "code",
   "execution_count": 1,
   "metadata": {},
   "outputs": [],
   "source": [
    "import pandas as pd"
   ]
  },
  {
   "cell_type": "code",
   "execution_count": 2,
   "metadata": {},
   "outputs": [],
   "source": [
    "file_list=['../csvs\\\\DDoS HTTP Flood Attacks.pcap_Flow.csv']\n",
    "\n",
    "for  file in file_list:\n",
    "    df=pd.read_csv(file)\n",
    "    labeller=df[['Src IP', 'Dst IP', 'Dst Port', 'Protocol']]\n",
    "    # RULES  ##################################################\n",
    "    label=[]\n",
    "    for i in labeller.values:\n",
    "        if i[1]=='192.168.0.128':\n",
    "            label.append(1)\n",
    "        else:label.append(0)\n",
    "    # RULES  ##################################################\n",
    "    \n",
    "    df['Label']=label\n",
    "    df.to_csv(file,index=False)\n"
   ]
  }
 ],
 "metadata": {
  "kernelspec": {
   "display_name": "venv",
   "language": "python",
   "name": "python3"
  },
  "language_info": {
   "codemirror_mode": {
    "name": "ipython",
    "version": 3
   },
   "file_extension": ".py",
   "mimetype": "text/x-python",
   "name": "python",
   "nbconvert_exporter": "python",
   "pygments_lexer": "ipython3",
   "version": "3.12.7"
  }
 },
 "nbformat": 4,
 "nbformat_minor": 2
}
