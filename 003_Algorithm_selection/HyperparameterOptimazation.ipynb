{
 "cells": [
  {
   "cell_type": "code",
   "execution_count": 1,
   "metadata": {},
   "outputs": [],
   "source": [
    "%matplotlib inline\n",
    "from scipy.stats import randint as sp_randint\n",
    "from scipy.stats import uniform\n",
    "from scipy.stats import uniform as sp_randFloat\n",
    "from sklearn import svm\n",
    "from tqdm import tqdm\n",
    "from sklearn.ensemble import GradientBoostingClassifier\n",
    "from sklearn.naive_bayes import CategoricalNB\n",
    "from sklearn.model_selection import GridSearchCV\n",
    "from sklearn.ensemble import RandomForestClassifier\n",
    "from sklearn.model_selection import GridSearchCV\n",
    "from sklearn.model_selection import RandomizedSearchCV\n",
    "from sklearn.model_selection import train_test_split\n",
    "from sklearn.neighbors import KNeighborsClassifier\n",
    "from sklearn.tree import DecisionTreeClassifier\n",
    "from time import time\n",
    "from tabulate import tabulate\n",
    "import numpy as np\n",
    "import pandas as pd\n",
    "import sklearn\n",
    "import warnings\n",
    "warnings.filterwarnings('ignore')\n",
    "import os"
   ]
  },
  {
   "cell_type": "code",
   "execution_count": 2,
   "metadata": {},
   "outputs": [],
   "source": [
    "from scipy.stats import randint as sp_randInt\n",
    "\n",
    "from sklearn.model_selection import GridSearchCV, PredefinedSplit\n",
    "from sklearn.metrics import make_scorer\n",
    "from scipy import sparse"
   ]
  },
  {
   "cell_type": "code",
   "execution_count": 3,
   "metadata": {},
   "outputs": [],
   "source": [
    "import json\n",
    "with open('GA_output_ET.json', 'r') as fp:\n",
    "    feature_list = json.load(fp)"
   ]
  },
  {
   "cell_type": "code",
   "execution_count": 4,
   "metadata": {},
   "outputs": [
    {
     "data": {
      "text/plain": [
       "{'SYN': ['Src Port',\n",
       "  'Flow Duration',\n",
       "  'Tot Fwd Pkts',\n",
       "  'Tot Bwd Pkts',\n",
       "  'TotLen Fwd Pkts',\n",
       "  'TotLen Bwd Pkts',\n",
       "  'Fwd Pkt Len Min',\n",
       "  'Fwd Pkt Len Std',\n",
       "  'Bwd Pkt Len Max',\n",
       "  'Bwd Pkt Len Mean',\n",
       "  'Bwd Pkt Len Std',\n",
       "  'Flow Byts/s',\n",
       "  'Flow IAT Mean',\n",
       "  'Flow IAT Std',\n",
       "  'Flow IAT Max',\n",
       "  'Flow IAT Min',\n",
       "  'Fwd IAT Tot',\n",
       "  'Fwd IAT Mean',\n",
       "  'Fwd IAT Std',\n",
       "  'Fwd IAT Max',\n",
       "  'Fwd IAT Min',\n",
       "  'Bwd IAT Mean',\n",
       "  'Bwd IAT Std',\n",
       "  'Bwd IAT Max',\n",
       "  'Bwd IAT Min',\n",
       "  'Bwd Pkts/s',\n",
       "  'Pkt Len Max',\n",
       "  'Pkt Len Mean',\n",
       "  'Pkt Len Std',\n",
       "  'SYN Flag Cnt',\n",
       "  'PSH Flag Cnt',\n",
       "  'ACK Flag Cnt',\n",
       "  'Pkt Size Avg',\n",
       "  'Fwd Seg Size Avg',\n",
       "  'Bwd Seg Size Avg',\n",
       "  'Subflow Fwd Pkts',\n",
       "  'Active Std',\n",
       "  'Active Min',\n",
       "  'Idle Mean',\n",
       "  'Idle Std',\n",
       "  'Idle Max',\n",
       "  'Idle Min',\n",
       "  'Label'],\n",
       " 'HTTP': ['Dst Port',\n",
       "  'Protocol',\n",
       "  'Tot Fwd Pkts',\n",
       "  'Tot Bwd Pkts',\n",
       "  'TotLen Fwd Pkts',\n",
       "  'TotLen Bwd Pkts',\n",
       "  'Fwd Pkt Len Max',\n",
       "  'Fwd Pkt Len Min',\n",
       "  'Fwd Pkt Len Mean',\n",
       "  'Bwd Pkt Len Max',\n",
       "  'Bwd Pkt Len Min',\n",
       "  'Bwd Pkt Len Mean',\n",
       "  'Fwd IAT Tot',\n",
       "  'Bwd IAT Tot',\n",
       "  'Bwd IAT Mean',\n",
       "  'Bwd IAT Min',\n",
       "  'Bwd PSH Flags',\n",
       "  'Pkt Len Min',\n",
       "  'Pkt Len Max',\n",
       "  'Pkt Len Mean',\n",
       "  'Pkt Len Std',\n",
       "  'Pkt Len Var',\n",
       "  'FIN Flag Cnt',\n",
       "  'RST Flag Cnt',\n",
       "  'ECE Flag Cnt',\n",
       "  'Pkt Size Avg',\n",
       "  'Fwd Seg Size Avg',\n",
       "  'Bwd Seg Size Avg',\n",
       "  'Subflow Fwd Pkts',\n",
       "  'Subflow Fwd Byts',\n",
       "  'Subflow Bwd Pkts',\n",
       "  'Subflow Bwd Byts',\n",
       "  'Fwd Act Data Pkts',\n",
       "  'Active Min',\n",
       "  'Idle Std',\n",
       "  'Idle Max',\n",
       "  'Idle Min',\n",
       "  'Label'],\n",
       " 'ACK': ['TotLen Fwd Pkts',\n",
       "  'TotLen Bwd Pkts',\n",
       "  'Fwd Pkt Len Max',\n",
       "  'Fwd Pkt Len Mean',\n",
       "  'Bwd Pkt Len Max',\n",
       "  'Bwd Pkt Len Mean',\n",
       "  'Bwd Pkt Len Std',\n",
       "  'Flow Byts/s',\n",
       "  'Flow Pkts/s',\n",
       "  'Bwd IAT Tot',\n",
       "  'Bwd IAT Mean',\n",
       "  'Bwd IAT Max',\n",
       "  'Bwd Header Len',\n",
       "  'Fwd Pkts/s',\n",
       "  'Pkt Len Mean',\n",
       "  'Pkt Len Std',\n",
       "  'SYN Flag Cnt',\n",
       "  'ACK Flag Cnt',\n",
       "  'Pkt Size Avg',\n",
       "  'Fwd Seg Size Avg',\n",
       "  'Bwd Seg Size Avg',\n",
       "  'Subflow Bwd Byts',\n",
       "  'Init Bwd Win Byts',\n",
       "  'Active Max',\n",
       "  'Active Min',\n",
       "  'Idle Std',\n",
       "  'Label'],\n",
       " 'UDP': ['Src Port', 'Fwd IAT Std', 'Label'],\n",
       " 'ARP': ['Src Port',\n",
       "  'Dst Port',\n",
       "  'Fwd Pkt Len Max',\n",
       "  'Bwd Pkt Len Max',\n",
       "  'Bwd Pkt Len Min',\n",
       "  'Bwd Pkt Len Mean',\n",
       "  'Bwd Pkt Len Std',\n",
       "  'Flow Byts/s',\n",
       "  'Flow IAT Std',\n",
       "  'Flow IAT Min',\n",
       "  'Fwd IAT Tot',\n",
       "  'Fwd IAT Min',\n",
       "  'Bwd IAT Std',\n",
       "  'Bwd PSH Flags',\n",
       "  'Fwd Header Len',\n",
       "  'Bwd Header Len',\n",
       "  'Fwd Pkts/s',\n",
       "  'Pkt Len Min',\n",
       "  'Pkt Len Max',\n",
       "  'Pkt Len Mean',\n",
       "  'Pkt Len Var',\n",
       "  'FIN Flag Cnt',\n",
       "  'SYN Flag Cnt',\n",
       "  'ACK Flag Cnt',\n",
       "  'Pkt Size Avg',\n",
       "  'Fwd Seg Size Avg',\n",
       "  'Subflow Fwd Pkts',\n",
       "  'Subflow Bwd Byts',\n",
       "  'Active Std',\n",
       "  'Active Max',\n",
       "  'Active Min',\n",
       "  'Idle Mean',\n",
       "  'Idle Std',\n",
       "  'Idle Max',\n",
       "  'Idle Min',\n",
       "  'Label'],\n",
       " 'SP': ['Protocol',\n",
       "  'TotLen Fwd Pkts',\n",
       "  'TotLen Bwd Pkts',\n",
       "  'Fwd Pkt Len Min',\n",
       "  'Fwd Pkt Len Mean',\n",
       "  'Fwd Pkt Len Std',\n",
       "  'Bwd Pkt Len Max',\n",
       "  'Fwd IAT Mean',\n",
       "  'Fwd IAT Std',\n",
       "  'Fwd Header Len',\n",
       "  'Fwd Pkts/s',\n",
       "  'Pkt Len Mean',\n",
       "  'Pkt Len Std',\n",
       "  'SYN Flag Cnt',\n",
       "  'Down/Up Ratio',\n",
       "  'Pkt Size Avg',\n",
       "  'Fwd Seg Size Avg',\n",
       "  'Subflow Fwd Byts',\n",
       "  'Init Bwd Win Byts',\n",
       "  'Active Std',\n",
       "  'Active Max',\n",
       "  'Active Min',\n",
       "  'Idle Std',\n",
       "  'Idle Max',\n",
       "  'Idle Min',\n",
       "  'Label'],\n",
       " 'BF': ['Tot Bwd Pkts',\n",
       "  'TotLen Fwd Pkts',\n",
       "  'Flow IAT Max',\n",
       "  'Fwd IAT Tot',\n",
       "  'Fwd IAT Std',\n",
       "  'Fwd IAT Max',\n",
       "  'Fwd IAT Min',\n",
       "  'Fwd Pkts/s',\n",
       "  'Subflow Bwd Pkts',\n",
       "  'Init Bwd Win Byts',\n",
       "  'Label']}"
      ]
     },
     "execution_count": 4,
     "metadata": {},
     "output_type": "execute_result"
    }
   ],
   "source": [
    "feature_list"
   ]
  },
  {
   "cell_type": "code",
   "execution_count": 5,
   "metadata": {},
   "outputs": [],
   "source": [
    "file_list={\n",
    "\"SYN\":[ '../csvs\\\\dos-synflooding-1-dec.pcap_Flow.csv', '../csvs\\\\dos-synflooding-6-dec.pcap_Flow.csv',],\n",
    "\"HTTP\":['../csvs\\\\mirai-httpflooding-4-dec.pcap_Flow.csv', '../csvs\\\\mirai-httpflooding-1-dec.pcap_Flow.csv'],\n",
    "\"ACK\":['../csvs\\\\mirai-ackflooding-4-dec.pcap_Flow.csv','../csvs\\\\mirai-ackflooding-1-dec.pcap_Flow.csv'],\n",
    "\"UDP\":[ '../csvs\\\\mirai-udpflooding-4-dec.pcap_Flow.csv','../csvs\\\\UDP_DDoS_00001.pcap_Flow.csv'],\n",
    "\"ARP\":[ '../csvs\\\\mitm-arpspoofing-6-dec.pcap_Flow.csv', '../csvs\\\\mitm-arpspoofing-5-dec.pcap_Flow.csv'],\n",
    "\"SP\":['../csvs\\\\scan-hostport-3-dec.pcap_Flow.csv','../csvs\\\\Edge Port Scanning attack.pcap_Flow.csv'],\n",
    "\"BF\":[ '../csvs\\\\mirai-hostbruteforce-5-dec.pcap_Flow.csv','../csvs\\\\Edge Password attacks.pcap_Flow.csv']\n",
    "}"
   ]
  },
  {
   "cell_type": "code",
   "execution_count": 6,
   "metadata": {},
   "outputs": [],
   "source": [
    "def run_random_search(model, params, x_train, y_train):\n",
    "    #grid = GridSearchCV(model, params, cv = ps, n_jobs = -1, scoring = score, verbose = 0, refit = False)\n",
    "    grid =RandomizedSearchCV(model, param_grid, cv=ps,scoring = 'f1_macro')\n",
    "    grid.fit(x_train, y_train)\n",
    "    return (grid.best_params_, round(grid.best_score_,8),grid.best_estimator_)"
   ]
  },
  {
   "cell_type": "code",
   "execution_count": 7,
   "metadata": {},
   "outputs": [],
   "source": [
    "def find_the_way(path,file_format,con=\"\"):\n",
    "    files_add = []\n",
    "    # r=root, d=directories, f = files\n",
    "    for r, d, f in os.walk(path):\n",
    "        for file in f:\n",
    "            if file_format in file:\n",
    "                if con in file:\n",
    "                    files_add.append(os.path.join(r, file))  \n",
    "            \n",
    "    return files_add"
   ]
  },
  {
   "cell_type": "markdown",
   "metadata": {},
   "source": [
    "### RandomizedSearchCV  DT"
   ]
  },
  {
   "cell_type": "code",
   "execution_count": 8,
   "metadata": {},
   "outputs": [
    {
     "name": "stdout",
     "output_type": "stream",
     "text": [
      "SYN\n",
      "HYPERPARAMETERS                     F1 Score             Time     No      \n",
      "default                             0.9886387839098433   1.041    24      \n"
     ]
    },
    {
     "name": "stderr",
     "output_type": "stream",
     "text": [
      "100%|██████████| 50/50 [01:14<00:00,  1.48s/it]\n"
     ]
    },
    {
     "name": "stdout",
     "output_type": "stream",
     "text": [
      "HTTP\n",
      "HYPERPARAMETERS                     F1 Score             Time     No      \n",
      "default                             0.9943676873288527   0.439    24      \n"
     ]
    },
    {
     "name": "stderr",
     "output_type": "stream",
     "text": [
      "100%|██████████| 50/50 [00:12<00:00,  4.15it/s]\n"
     ]
    },
    {
     "name": "stdout",
     "output_type": "stream",
     "text": [
      "ACK\n",
      "HYPERPARAMETERS                     F1 Score             Time     No      \n",
      "default                             0.906046015859736    0.486    24      \n"
     ]
    },
    {
     "name": "stderr",
     "output_type": "stream",
     "text": [
      "100%|██████████| 50/50 [00:16<00:00,  3.12it/s]\n"
     ]
    },
    {
     "name": "stdout",
     "output_type": "stream",
     "text": [
      "UDP\n",
      "HYPERPARAMETERS                     F1 Score             Time     No      \n",
      "default                             0.04705527220013552  3.36     24      \n"
     ]
    },
    {
     "name": "stderr",
     "output_type": "stream",
     "text": [
      "100%|██████████| 50/50 [01:24<00:00,  1.70s/it]\n"
     ]
    },
    {
     "name": "stdout",
     "output_type": "stream",
     "text": [
      "ARP\n",
      "HYPERPARAMETERS                     F1 Score             Time     No      \n",
      "default                             0.9653915297140648   0.111    24      \n"
     ]
    },
    {
     "name": "stderr",
     "output_type": "stream",
     "text": [
      "100%|██████████| 50/50 [00:03<00:00, 14.56it/s]\n"
     ]
    },
    {
     "name": "stdout",
     "output_type": "stream",
     "text": [
      "SP\n",
      "HYPERPARAMETERS                     F1 Score             Time     No      \n",
      "default                             1.0                  0.119    24      \n"
     ]
    },
    {
     "name": "stderr",
     "output_type": "stream",
     "text": [
      "100%|██████████| 50/50 [00:04<00:00, 10.19it/s]\n"
     ]
    },
    {
     "name": "stdout",
     "output_type": "stream",
     "text": [
      "BF\n",
      "HYPERPARAMETERS                     F1 Score             Time     No      \n",
      "default                             0.5625560748710202   1.253    24      \n"
     ]
    },
    {
     "name": "stderr",
     "output_type": "stream",
     "text": [
      "100%|██████████| 50/50 [01:56<00:00,  2.34s/it]"
     ]
    },
    {
     "name": "stdout",
     "output_type": "stream",
     "text": [
      "    criterion      max_depth    max_features    min_samples_split        F1         Std    Time    No  Attack\n",
      "--  -----------  -----------  --------------  -------------------  --------  ----------  ------  ----  --------\n",
      " 0  gini                  11              26                    7  0.991483  0            1.619    43  SYN\n",
      " 1  gini                  11              19                    4  0.995777  0.00140916   0.248     0  HTTP\n",
      " 2  entropy                5              24                    6  0.940911  0.00236887   0.352     3  ACK\n",
      " 3  gini                   2               1                    8  0.054421  0.0222639    0.899    13  UDP\n",
      " 4  entropy               25               9                    4  0.965713  0.0086615    0.063    15  ARP\n",
      " 5  gini                   2              17                    7  1         0            0.101    13  SP\n",
      " 6  gini                  11               8                    2  0.719363  0.160111     1.477    14  BF\n"
     ]
    },
    {
     "name": "stderr",
     "output_type": "stream",
     "text": [
      "\n"
     ]
    }
   ],
   "source": [
    "lines=[['criterion', 'max_depth', 'max_features', 'min_samples_split', \"F1\",\"Std\",\"Time\",\"No\",\"Attack\"]]\n",
    "\n",
    "for j in file_list:\n",
    "    print(j)\n",
    "    df=pd.read_csv(file_list[j][0],usecols=feature_list[j]) \n",
    "    X_train = df.iloc[:,0:-1]\n",
    "    df['Label'] = df['Label'].astype('category')\n",
    "    y_train=df['Label'].cat.codes  \n",
    "\n",
    "\n",
    "    df=pd.read_csv(file_list[j][1],usecols=feature_list[j]) \n",
    "    X_test = df.iloc[:,0:-1]\n",
    "    df['Label'] = df['Label'].astype('category')\n",
    "    y_test=df['Label'].cat.codes  \n",
    "    \n",
    "    \n",
    "    \n",
    "    X= np.concatenate([X_train, X_test])\n",
    "    test_fold = [-1 for _ in range(X_train.shape[0])] + [0 for _ in range(X_test.shape[0])]\n",
    "    y = np.concatenate([y_train, y_test])\n",
    "    ps = PredefinedSplit(test_fold)\n",
    "    \n",
    "    \n",
    "    print ('%-35s %-20s %-8s %-8s' % (\"HYPERPARAMETERS\",\"F1 Score\", \"Time\", \"No\"))\n",
    "\n",
    "    nfolds=10\n",
    "    param_grid = { 'criterion':['gini','entropy'],\n",
    "                      \"max_depth\":np.linspace(1, 32, 32, endpoint=True).astype(int),\n",
    "                     \"min_samples_split\": sp_randint(2,10),#uniform(0.1,1 ),\n",
    "                        # \"min_samples_leafs\" : np.linspace(0.1, 0.5, 5, endpoint=True)\n",
    "                        \"max_features\" : sp_randint(1,X_train.shape[1])}\n",
    "\n",
    "    second=time()\n",
    "    f1=[]\n",
    "    clf=DecisionTreeClassifier()\n",
    "    for ii in range(25):\n",
    "        clf.fit(X_train, y_train)\n",
    "        predict =clf.predict(X_test)\n",
    "        f1.append(sklearn.metrics.f1_score(y_test, predict,average= \"macro\") )\n",
    "    f1=sum(f1)/len(f1)   \n",
    "    #if f1>0.76:\n",
    "    print('%-35s %-20s %-8s %-8s' % (\"default\",f1,round(time()-second,3),ii))\n",
    "    ######################################################################################################################\n",
    "    for i in tqdm(range(50)):\n",
    "        second=time()\n",
    "        a,b,clf=run_random_search(DecisionTreeClassifier(),param_grid,X,y)\n",
    "        f1=[]\n",
    "        for ii in range(10):\n",
    "            clf.fit(X_train, y_train)\n",
    "            predict =clf.predict(X_test)\n",
    "            f1.append(sklearn.metrics.f1_score(y_test, predict,average= \"macro\") )\n",
    "        f1_result=sum(f1)/len(f1)   \n",
    "        f1=np.array(f1)\n",
    "        stndtd=f1.std()\n",
    "        temp=list(a.values())\n",
    "        #print('%-90s %-20s %-8s %-8s' % (a,f1_result,round(time()-second,3),i))\n",
    "        temp=temp+[f1_result,stndtd,round(time()-second,3),i,j]\n",
    "        lines.append(temp)\n",
    "\n",
    "        #if f1>0.76:\n",
    "results = pd.DataFrame (lines[1:], columns = lines[0])\n",
    "results.to_csv(\"DT_HPO.csv\",index=False)\n",
    "\n",
    "final_parametres=[['criterion', 'max_depth', 'max_features', 'min_samples_split', \"F1\",\"Std\",\"Time\",\"No\",\"Attack\"]]\n",
    "for i in results[\"Attack\"].unique():\n",
    "    df=results[results[\"Attack\"]==i]\n",
    "    m=df[\"F1\"].max()\n",
    "    df=df[df[\"F1\"]==m]\n",
    "    m=df[\"max_depth\"].min()\n",
    "    df=df[df[\"max_depth\"]==m]  \n",
    "    final_parametres.append(list(df.values)[0])\n",
    "results = pd.DataFrame (final_parametres[1:], columns=  final_parametres[0])\n",
    "print (tabulate(results, headers=list(results.columns)))\n",
    "    \n",
    "    "
   ]
  },
  {
   "cell_type": "markdown",
   "metadata": {},
   "source": [
    "### RandomizedSearchCV RF"
   ]
  },
  {
   "cell_type": "code",
   "execution_count": null,
   "metadata": {},
   "outputs": [
    {
     "name": "stdout",
     "output_type": "stream",
     "text": [
      "SYN\n",
      "HYPERPARAMETERS                     F1 Score             Time     No      \n",
      "default                             0.9914825015895742   1.924    0       \n"
     ]
    },
    {
     "name": "stderr",
     "output_type": "stream",
     "text": [
      "100%|██████████| 10/10 [04:46<00:00, 28.61s/it]\n"
     ]
    },
    {
     "name": "stdout",
     "output_type": "stream",
     "text": [
      "HTTP\n",
      "HYPERPARAMETERS                     F1 Score             Time     No      \n",
      "default                             0.9943676873288524   0.124    0       \n"
     ]
    },
    {
     "name": "stderr",
     "output_type": "stream",
     "text": [
      "100%|██████████| 10/10 [00:18<00:00,  1.84s/it]\n"
     ]
    },
    {
     "name": "stdout",
     "output_type": "stream",
     "text": [
      "ACK\n",
      "HYPERPARAMETERS                     F1 Score             Time     No      \n",
      "default                             0.9824712973279108   0.124    0       \n"
     ]
    },
    {
     "name": "stderr",
     "output_type": "stream",
     "text": [
      "100%|██████████| 10/10 [00:23<00:00,  2.38s/it]\n"
     ]
    },
    {
     "name": "stdout",
     "output_type": "stream",
     "text": [
      "UDP\n",
      "HYPERPARAMETERS                     F1 Score             Time     No      \n",
      "default                             0.020020838406963948 0.649    0       \n"
     ]
    },
    {
     "name": "stderr",
     "output_type": "stream",
     "text": [
      "100%|██████████| 10/10 [23:03<00:00, 138.35s/it] \n"
     ]
    },
    {
     "name": "stdout",
     "output_type": "stream",
     "text": [
      "ARP\n",
      "HYPERPARAMETERS                     F1 Score             Time     No      \n",
      "default                             0.9800377536573857   0.278    0       \n"
     ]
    },
    {
     "name": "stderr",
     "output_type": "stream",
     "text": [
      "100%|██████████| 10/10 [00:37<00:00,  3.76s/it]\n"
     ]
    },
    {
     "name": "stdout",
     "output_type": "stream",
     "text": [
      "SP\n",
      "HYPERPARAMETERS                     F1 Score             Time     No      \n",
      "default                             1.0                  0.251    0       \n"
     ]
    },
    {
     "name": "stderr",
     "output_type": "stream",
     "text": [
      "100%|██████████| 10/10 [00:40<00:00,  4.01s/it]\n"
     ]
    },
    {
     "name": "stdout",
     "output_type": "stream",
     "text": [
      "BF\n",
      "HYPERPARAMETERS                     F1 Score             Time     No      \n",
      "default                             0.4371969877394523   1.014    0       \n"
     ]
    },
    {
     "name": "stderr",
     "output_type": "stream",
     "text": [
      "100%|██████████| 10/10 [12:53<00:00, 77.33s/it]"
     ]
    },
    {
     "name": "stdout",
     "output_type": "stream",
     "text": [
      "    bootst    criter      max_depth    max_features    min_samp_split    n_estimators         F1          Std    Time    No  Attack\n",
      "--  --------  --------  -----------  --------------  ----------------  --------------  ---------  -----------  ------  ----  --------\n",
      " 0  True      gini                3               8                 2             196  0.991483   0            39.8       7  SYN\n",
      " 1  False     gini               18              10                 4               2  0.994931   0.00112733    1.039     6  HTTP\n",
      " 2  True      entropy            31               9                 7              61  0.975863   0.00476664    2.213     4  ACK\n",
      " 3  True      gini               13               7                 2             130  0.0503196  0.00852012   87.58      6  UDP\n",
      " 4  False     gini               29               6                 2             151  0.985557   0.000990253   4.758     7  ARP\n",
      " 5  True      entropy             7              10                 3             129  1          0             4.518     2  SP\n",
      " 6  True      entropy             4               9                 9              25  0.774185   0.0701376    30.132     3  BF\n"
     ]
    },
    {
     "name": "stderr",
     "output_type": "stream",
     "text": [
      "\n"
     ]
    }
   ],
   "source": [
    "lines=[['bootst', 'criter', 'max_depth', 'max_features',\"min_samp_split\",\"n_estimators\", \"F1\",\"Std\",\"Time\",\"No\",\"Attack\"]]\n",
    "\n",
    "\n",
    "\n",
    "for j in file_list:\n",
    "    print(j)\n",
    "    \n",
    "    \n",
    "    df=pd.read_csv(file_list[j][0],usecols=feature_list[j]) \n",
    "    X_train = df.iloc[:,0:-1]\n",
    "    df['Label'] = df['Label'].astype('category')\n",
    "    y_train=df['Label'].cat.codes  \n",
    "\n",
    "\n",
    "    df=pd.read_csv(file_list[j][1],usecols=feature_list[j]) \n",
    "    X_test = df.iloc[:,0:-1]\n",
    "    df['Label'] = df['Label'].astype('category')\n",
    "    y_test=df['Label'].cat.codes  \n",
    "    \n",
    "    \n",
    "    \n",
    "    X= np.concatenate([X_train, X_test])\n",
    "    test_fold = [-1 for _ in range(X_train.shape[0])] + [0 for _ in range(X_test.shape[0])]\n",
    "    y = np.concatenate([y_train, y_test])\n",
    "    ps = PredefinedSplit(test_fold)\n",
    "    print ('%-35s %-20s %-8s %-8s' % (\"HYPERPARAMETERS\",\"F1 Score\", \"Time\", \"No\"))\n",
    "    # use a full grid over all parameters\n",
    "    param_grid = {\"max_depth\":np.linspace(1, 32, 32, endpoint=True).astype(int),\n",
    "                  \"n_estimators\" : sp_randint(1, 200),\n",
    "                  \"max_features\": sp_randint(1, 11),\n",
    "                  \"min_samples_split\":sp_randint(2, 11),\n",
    "                  \"bootstrap\": [True, False],\n",
    "                  \"criterion\": [\"gini\", \"entropy\"]}\n",
    "    second=time()\n",
    "    f1=[]\n",
    "    clf=RandomForestClassifier()\n",
    "    for ii in range(1):\n",
    "        clf.fit(X_train, y_train)\n",
    "        predict =clf.predict(X_test)\n",
    "        f1.append(sklearn.metrics.f1_score(y_test, predict,average= \"macro\") )\n",
    "    f1=sum(f1)/len(f1)   \n",
    "    #if f1>0.76:\n",
    "    print('%-35s %-20s %-8s %-8s' % (\"default\",f1,round(time()-second,3),ii))\n",
    "    ######################################################################################################################\n",
    "    for i in tqdm(range(10)):\n",
    "        second=time()\n",
    "        a,b,clf=run_random_search(RandomForestClassifier(),param_grid,X,y)\n",
    "        f1=[]\n",
    "        for ii in range(5):\n",
    "            clf.fit(X_train, y_train)\n",
    "            predict =clf.predict(X_test)\n",
    "            f1.append(sklearn.metrics.f1_score(y_test, predict,average= \"macro\") )\n",
    "        f1_result=sum(f1)/len(f1)   \n",
    "        f1=np.array(f1)\n",
    "        stndtd=f1.std()\n",
    "        temp=list(a.values())\n",
    "        #print('%-90s %-20s %-8s %-8s' % (a,f1_result,round(time()-second,3),i))\n",
    "        temp=temp+[f1_result,stndtd,round(time()-second,3),i,j]\n",
    "        lines.append(temp)\n",
    "\n",
    "        #if f1>0.76:\n",
    "results = pd.DataFrame (lines[1:], columns = lines[0])\n",
    "results.to_csv(\"RF_HPO.csv\",index=False)\n",
    "\n",
    "final_parametres=[['bootst', 'criter', 'max_depth', 'max_features',\"min_samp_split\",\"n_estimators\", \"F1\",\"Std\",\"Time\",\"No\",\"Attack\"]]\n",
    "\n",
    "for i in results[\"Attack\"].unique():\n",
    "    df=results[results[\"Attack\"]==i]\n",
    "    m=df[\"F1\"].max()\n",
    "    df=df[df[\"F1\"]==m]\n",
    "    m=df[\"max_depth\"].min()\n",
    "    df=df[df[\"max_depth\"]==m]  \n",
    "    final_parametres.append(list(df.values)[0])\n",
    "results = pd.DataFrame (final_parametres[1:], columns=  final_parametres[0])\n",
    "print (tabulate(results, headers=list(results.columns)))"
   ]
  },
  {
   "cell_type": "markdown",
   "metadata": {},
   "source": [
    "### XG Boost"
   ]
  },
  {
   "cell_type": "code",
   "execution_count": 19,
   "metadata": {},
   "outputs": [
    {
     "name": "stdout",
     "output_type": "stream",
     "text": [
      "{'objective': 'binary:logistic', 'base_score': None, 'booster': None, 'colsample_bylevel': None, 'colsample_bynode': None, 'colsample_bytree': None, 'device': None, 'eval_metric': None, 'gamma': None, 'grow_policy': None, 'interaction_constraints': None, 'learning_rate': None, 'max_bin': None, 'max_cat_threshold': None, 'max_cat_to_onehot': None, 'max_delta_step': None, 'max_depth': None, 'max_leaves': None, 'min_child_weight': None, 'monotone_constraints': None, 'multi_strategy': None, 'n_jobs': None, 'num_parallel_tree': None, 'random_state': None, 'reg_alpha': None, 'reg_lambda': None, 'sampling_method': None, 'scale_pos_weight': None, 'subsample': None, 'tree_method': 'gpu_hist', 'validate_parameters': None, 'verbosity': None}\n"
     ]
    }
   ],
   "source": [
    "from xgboost import XGBClassifier\n",
    "clf = XGBClassifier(tree_method='gpu_hist')\n",
    "print(clf.get_xgb_params())\n"
   ]
  },
  {
   "cell_type": "code",
   "execution_count": 20,
   "metadata": {},
   "outputs": [
    {
     "name": "stdout",
     "output_type": "stream",
     "text": [
      "SYN\n",
      "default                             0.9832474816849817   0.548    0       \n"
     ]
    },
    {
     "name": "stderr",
     "output_type": "stream",
     "text": [
      " 20%|██        | 1/5 [00:04<00:19,  4.88s/it]"
     ]
    },
    {
     "name": "stdout",
     "output_type": "stream",
     "text": [
      "{'n_estimators': np.int64(900), 'max_depth': np.int64(3), 'learning_rate': np.float64(0.1), 'min_child_weight': np.int64(2)} 0.965345567559568    4.876    0       \n"
     ]
    },
    {
     "name": "stderr",
     "output_type": "stream",
     "text": [
      " 40%|████      | 2/5 [00:09<00:14,  4.79s/it]"
     ]
    },
    {
     "name": "stdout",
     "output_type": "stream",
     "text": [
      "{'n_estimators': np.int64(900), 'max_depth': np.int64(15), 'learning_rate': np.float64(0.2), 'min_child_weight': np.int64(4)} 0.9559257770208716   4.726    1       \n"
     ]
    },
    {
     "name": "stderr",
     "output_type": "stream",
     "text": [
      " 60%|██████    | 3/5 [00:12<00:07,  3.93s/it]"
     ]
    },
    {
     "name": "stdout",
     "output_type": "stream",
     "text": [
      "{'n_estimators': np.int64(500), 'max_depth': np.int64(2), 'learning_rate': np.float64(0.2), 'min_child_weight': np.int64(3)} 0.9559257770208716   2.918    2       \n"
     ]
    },
    {
     "name": "stderr",
     "output_type": "stream",
     "text": [
      " 80%|████████  | 4/5 [00:17<00:04,  4.23s/it]"
     ]
    },
    {
     "name": "stdout",
     "output_type": "stream",
     "text": [
      "{'n_estimators': np.int64(900), 'max_depth': np.int64(5), 'learning_rate': np.float64(0.1), 'min_child_weight': np.int64(2)} 0.965345567559568    4.68     3       \n"
     ]
    },
    {
     "name": "stderr",
     "output_type": "stream",
     "text": [
      "100%|██████████| 5/5 [00:20<00:00,  4.17s/it]\n"
     ]
    },
    {
     "name": "stdout",
     "output_type": "stream",
     "text": [
      "{'n_estimators': np.int64(900), 'max_depth': np.int64(2), 'learning_rate': np.float64(0.2), 'min_child_weight': np.int64(1)} 0.9832474816849818   3.651    4       \n",
      "HTTP\n",
      "default                             0.988717469222378    0.165    0       \n"
     ]
    },
    {
     "name": "stderr",
     "output_type": "stream",
     "text": [
      " 20%|██        | 1/5 [00:00<00:02,  1.39it/s]"
     ]
    },
    {
     "name": "stdout",
     "output_type": "stream",
     "text": [
      "{'n_estimators': np.int64(100), 'max_depth': np.int64(3), 'learning_rate': np.float64(0.1), 'min_child_weight': np.int64(2)} 0.988717469222378    0.718    0       \n"
     ]
    },
    {
     "name": "stderr",
     "output_type": "stream",
     "text": [
      " 40%|████      | 2/5 [00:09<00:15,  5.33s/it]"
     ]
    },
    {
     "name": "stdout",
     "output_type": "stream",
     "text": [
      "{'n_estimators': np.int64(1500), 'max_depth': np.int64(10), 'learning_rate': np.float64(0.15), 'min_child_weight': np.int64(4)} 0.988717469222378    8.56     1       \n"
     ]
    },
    {
     "name": "stderr",
     "output_type": "stream",
     "text": [
      " 60%|██████    | 3/5 [00:15<00:11,  5.89s/it]"
     ]
    },
    {
     "name": "stdout",
     "output_type": "stream",
     "text": [
      "{'n_estimators': np.int64(1500), 'max_depth': np.int64(2), 'learning_rate': np.float64(0.15), 'min_child_weight': np.int64(2)} 0.9830482017982017   6.562    2       \n"
     ]
    },
    {
     "name": "stderr",
     "output_type": "stream",
     "text": [
      " 80%|████████  | 4/5 [00:17<00:04,  4.04s/it]"
     ]
    },
    {
     "name": "stdout",
     "output_type": "stream",
     "text": [
      "{'n_estimators': np.int64(100), 'max_depth': np.int64(15), 'learning_rate': np.float64(0.05), 'min_child_weight': np.int64(2)} 0.988717469222378    1.202    3       \n"
     ]
    },
    {
     "name": "stderr",
     "output_type": "stream",
     "text": [
      "100%|██████████| 5/5 [00:21<00:00,  4.31s/it]\n"
     ]
    },
    {
     "name": "stdout",
     "output_type": "stream",
     "text": [
      "{'n_estimators': np.int64(900), 'max_depth': np.int64(2), 'learning_rate': np.float64(0.2), 'min_child_weight': np.int64(4)} 0.9858852887277264   4.499    4       \n",
      "ACK\n",
      "default                             0.9337383440507971   0.196    0       \n"
     ]
    },
    {
     "name": "stderr",
     "output_type": "stream",
     "text": [
      " 20%|██        | 1/5 [00:07<00:31,  7.91s/it]"
     ]
    },
    {
     "name": "stdout",
     "output_type": "stream",
     "text": [
      "{'n_estimators': np.int64(1500), 'max_depth': np.int64(10), 'learning_rate': np.float64(0.2), 'min_child_weight': np.int64(1)} 0.933738344050797    7.911    0       \n"
     ]
    },
    {
     "name": "stderr",
     "output_type": "stream",
     "text": [
      " 40%|████      | 2/5 [00:14<00:21,  7.25s/it]"
     ]
    },
    {
     "name": "stdout",
     "output_type": "stream",
     "text": [
      "{'n_estimators': np.int64(1500), 'max_depth': np.int64(2), 'learning_rate': np.float64(0.05), 'min_child_weight': np.int64(2)} 0.933738344050797    6.786    1       \n"
     ]
    },
    {
     "name": "stderr",
     "output_type": "stream",
     "text": [
      " 60%|██████    | 3/5 [00:15<00:08,  4.36s/it]"
     ]
    },
    {
     "name": "stdout",
     "output_type": "stream",
     "text": [
      "{'n_estimators': np.int64(100), 'max_depth': np.int64(10), 'learning_rate': np.float64(0.1), 'min_child_weight': np.int64(2)} 0.9275274241816112   0.924    2       \n"
     ]
    },
    {
     "name": "stderr",
     "output_type": "stream",
     "text": [
      " 80%|████████  | 4/5 [00:20<00:04,  4.67s/it]"
     ]
    },
    {
     "name": "stdout",
     "output_type": "stream",
     "text": [
      "{'n_estimators': np.int64(900), 'max_depth': np.int64(10), 'learning_rate': np.float64(0.15), 'min_child_weight': np.int64(1)} 0.933738344050797    5.134    3       \n"
     ]
    },
    {
     "name": "stderr",
     "output_type": "stream",
     "text": [
      "100%|██████████| 5/5 [00:29<00:00,  5.80s/it]"
     ]
    },
    {
     "name": "stdout",
     "output_type": "stream",
     "text": [
      "{'n_estimators': np.int64(1500), 'max_depth': np.int64(15), 'learning_rate': np.float64(0.1), 'min_child_weight': np.int64(4)} 0.919107217779559    8.241    4       \n",
      "UDP\n"
     ]
    },
    {
     "name": "stderr",
     "output_type": "stream",
     "text": [
      "\n"
     ]
    },
    {
     "name": "stdout",
     "output_type": "stream",
     "text": [
      "default                             0.005478806914821453 0.251    0       \n"
     ]
    },
    {
     "name": "stderr",
     "output_type": "stream",
     "text": [
      " 20%|██        | 1/5 [00:09<00:37,  9.33s/it]"
     ]
    },
    {
     "name": "stdout",
     "output_type": "stream",
     "text": [
      "{'n_estimators': np.int64(1500), 'max_depth': np.int64(3), 'learning_rate': np.float64(0.2), 'min_child_weight': np.int64(4)} 0.006293195299162016 9.333    0       \n"
     ]
    },
    {
     "name": "stderr",
     "output_type": "stream",
     "text": [
      " 40%|████      | 2/5 [00:19<00:29,  9.99s/it]"
     ]
    },
    {
     "name": "stdout",
     "output_type": "stream",
     "text": [
      "{'n_estimators': np.int64(1100), 'max_depth': np.int64(15), 'learning_rate': np.float64(0.15), 'min_child_weight': np.int64(1)} 0.007752733794405671 10.453   1       \n"
     ]
    },
    {
     "name": "stderr",
     "output_type": "stream",
     "text": [
      " 60%|██████    | 3/5 [00:24<00:14,  7.39s/it]"
     ]
    },
    {
     "name": "stdout",
     "output_type": "stream",
     "text": [
      "{'n_estimators': np.int64(900), 'max_depth': np.int64(5), 'learning_rate': np.float64(0.1), 'min_child_weight': np.int64(2)} 0.018575141221420496 4.294    2       \n"
     ]
    },
    {
     "name": "stderr",
     "output_type": "stream",
     "text": [
      " 80%|████████  | 4/5 [00:24<00:04,  4.78s/it]"
     ]
    },
    {
     "name": "stdout",
     "output_type": "stream",
     "text": [
      "{'n_estimators': np.int64(100), 'max_depth': np.int64(5), 'learning_rate': np.float64(0.2), 'min_child_weight': np.int64(3)} 0.018575141221420496 0.78     3       \n"
     ]
    },
    {
     "name": "stderr",
     "output_type": "stream",
     "text": [
      "100%|██████████| 5/5 [00:26<00:00,  5.32s/it]\n"
     ]
    },
    {
     "name": "stdout",
     "output_type": "stream",
     "text": [
      "{'n_estimators': np.int64(500), 'max_depth': np.int64(2), 'learning_rate': np.float64(0.2), 'min_child_weight': np.int64(4)} 0.0012117240887226518 1.717    4       \n",
      "ARP\n",
      "default                             0.9725831256297397   0.151    0       \n"
     ]
    },
    {
     "name": "stderr",
     "output_type": "stream",
     "text": [
      " 20%|██        | 1/5 [00:00<00:03,  1.20it/s]"
     ]
    },
    {
     "name": "stdout",
     "output_type": "stream",
     "text": [
      "{'n_estimators': np.int64(100), 'max_depth': np.int64(15), 'learning_rate': np.float64(0.1), 'min_child_weight': np.int64(2)} 0.9749300649566166   0.83     0       \n"
     ]
    },
    {
     "name": "stderr",
     "output_type": "stream",
     "text": [
      " 40%|████      | 2/5 [00:05<00:09,  3.26s/it]"
     ]
    },
    {
     "name": "stdout",
     "output_type": "stream",
     "text": [
      "{'n_estimators': np.int64(1100), 'max_depth': np.int64(3), 'learning_rate': np.float64(0.1), 'min_child_weight': np.int64(3)} 0.9674478627115534   4.963    1       \n"
     ]
    },
    {
     "name": "stderr",
     "output_type": "stream",
     "text": [
      " 60%|██████    | 3/5 [00:12<00:09,  4.79s/it]"
     ]
    },
    {
     "name": "stdout",
     "output_type": "stream",
     "text": [
      "{'n_estimators': np.int64(1500), 'max_depth': np.int64(15), 'learning_rate': np.float64(0.05), 'min_child_weight': np.int64(4)} 0.9649020909392633   6.606    2       \n"
     ]
    },
    {
     "name": "stderr",
     "output_type": "stream",
     "text": [
      " 80%|████████  | 4/5 [00:13<00:03,  3.18s/it]"
     ]
    },
    {
     "name": "stdout",
     "output_type": "stream",
     "text": [
      "{'n_estimators': np.int64(100), 'max_depth': np.int64(5), 'learning_rate': np.float64(0.15), 'min_child_weight': np.int64(4)} 0.9597908745247148   0.701    3       \n"
     ]
    },
    {
     "name": "stderr",
     "output_type": "stream",
     "text": [
      "100%|██████████| 5/5 [00:16<00:00,  3.39s/it]\n"
     ]
    },
    {
     "name": "stdout",
     "output_type": "stream",
     "text": [
      "{'n_estimators': np.int64(900), 'max_depth': np.int64(10), 'learning_rate': np.float64(0.2), 'min_child_weight': np.int64(4)} 0.9623497997329773   3.842    4       \n",
      "SP\n",
      "default                             1.0                  0.107    0       \n"
     ]
    },
    {
     "name": "stderr",
     "output_type": "stream",
     "text": [
      " 20%|██        | 1/5 [00:03<00:14,  3.58s/it]"
     ]
    },
    {
     "name": "stdout",
     "output_type": "stream",
     "text": [
      "{'n_estimators': np.int64(1100), 'max_depth': np.int64(5), 'learning_rate': np.float64(0.15), 'min_child_weight': np.int64(4)} 1.0                  3.577    0       \n"
     ]
    },
    {
     "name": "stderr",
     "output_type": "stream",
     "text": [
      " 40%|████      | 2/5 [00:08<00:12,  4.12s/it]"
     ]
    },
    {
     "name": "stdout",
     "output_type": "stream",
     "text": [
      "{'n_estimators': np.int64(1100), 'max_depth': np.int64(5), 'learning_rate': np.float64(0.1), 'min_child_weight': np.int64(3)} 1.0                  4.496    1       \n"
     ]
    },
    {
     "name": "stderr",
     "output_type": "stream",
     "text": [
      " 60%|██████    | 3/5 [00:12<00:08,  4.27s/it]"
     ]
    },
    {
     "name": "stdout",
     "output_type": "stream",
     "text": [
      "{'n_estimators': np.int64(1500), 'max_depth': np.int64(3), 'learning_rate': np.float64(0.15), 'min_child_weight': np.int64(1)} 1.0                  4.45     2       \n"
     ]
    },
    {
     "name": "stderr",
     "output_type": "stream",
     "text": [
      " 80%|████████  | 4/5 [00:15<00:03,  3.63s/it]"
     ]
    },
    {
     "name": "stdout",
     "output_type": "stream",
     "text": [
      "{'n_estimators': np.int64(900), 'max_depth': np.int64(2), 'learning_rate': np.float64(0.2), 'min_child_weight': np.int64(1)} 1.0                  2.639    3       \n"
     ]
    },
    {
     "name": "stderr",
     "output_type": "stream",
     "text": [
      "100%|██████████| 5/5 [00:19<00:00,  3.98s/it]"
     ]
    },
    {
     "name": "stdout",
     "output_type": "stream",
     "text": [
      "{'n_estimators': np.int64(1100), 'max_depth': np.int64(15), 'learning_rate': np.float64(0.15), 'min_child_weight': np.int64(2)} 1.0                  4.742    4       \n",
      "BF\n"
     ]
    },
    {
     "name": "stderr",
     "output_type": "stream",
     "text": [
      "\n"
     ]
    },
    {
     "name": "stdout",
     "output_type": "stream",
     "text": [
      "default                             0.6611074538019128   0.316    0       \n"
     ]
    },
    {
     "name": "stderr",
     "output_type": "stream",
     "text": [
      " 20%|██        | 1/5 [00:02<00:10,  2.58s/it]"
     ]
    },
    {
     "name": "stdout",
     "output_type": "stream",
     "text": [
      "{'n_estimators': np.int64(500), 'max_depth': np.int64(2), 'learning_rate': np.float64(0.15), 'min_child_weight': np.int64(1)} 0.8743185214205889   2.578    0       \n"
     ]
    },
    {
     "name": "stderr",
     "output_type": "stream",
     "text": [
      " 40%|████      | 2/5 [00:08<00:14,  4.79s/it]"
     ]
    },
    {
     "name": "stdout",
     "output_type": "stream",
     "text": [
      "{'n_estimators': np.int64(1100), 'max_depth': np.int64(5), 'learning_rate': np.float64(0.2), 'min_child_weight': np.int64(2)} 0.6482331568725279   6.338    1       \n"
     ]
    },
    {
     "name": "stderr",
     "output_type": "stream",
     "text": [
      " 60%|██████    | 3/5 [00:15<00:11,  5.62s/it]"
     ]
    },
    {
     "name": "stdout",
     "output_type": "stream",
     "text": [
      "{'n_estimators': np.int64(1500), 'max_depth': np.int64(2), 'learning_rate': np.float64(0.1), 'min_child_weight': np.int64(3)} 0.8102097407180967   6.604    2       \n"
     ]
    },
    {
     "name": "stderr",
     "output_type": "stream",
     "text": [
      " 80%|████████  | 4/5 [00:19<00:04,  4.95s/it]"
     ]
    },
    {
     "name": "stdout",
     "output_type": "stream",
     "text": [
      "{'n_estimators': np.int64(900), 'max_depth': np.int64(2), 'learning_rate': np.float64(0.1), 'min_child_weight': np.int64(4)} 0.7905331214320429   3.915    3       \n"
     ]
    },
    {
     "name": "stderr",
     "output_type": "stream",
     "text": [
      "100%|██████████| 5/5 [00:27<00:00,  5.47s/it]"
     ]
    },
    {
     "name": "stdout",
     "output_type": "stream",
     "text": [
      "{'n_estimators': np.int64(1500), 'max_depth': np.int64(10), 'learning_rate': np.float64(0.15), 'min_child_weight': np.int64(3)} 0.7761652894385079   7.893    4       \n",
      "      n_estimators    min_child_weight    max_depth    learning_rate          F1          Std    Time    No  Attack\n",
      "--  --------------  ------------------  -----------  ---------------  ----------  -----------  ------  ----  --------\n",
      " 0             900                   3         0.1                 2  0.965346    1.11022e-16   4.876     0  SYN\n",
      " 1             900                  15         0.2                 4  0.955926    0             4.727     1  SYN\n",
      " 2             500                   2         0.2                 3  0.955926    0             2.918     2  SYN\n",
      " 3             900                   5         0.1                 2  0.965346    1.11022e-16   4.68      3  SYN\n",
      " 4             900                   2         0.2                 1  0.983247    1.11022e-16   3.651     4  SYN\n",
      " 5             100                   3         0.1                 2  0.988717    0             0.718     0  HTTP\n",
      " 6            1500                  10         0.15                4  0.988717    0             8.56      1  HTTP\n",
      " 7            1500                   2         0.15                2  0.983048    1.11022e-16   6.562     2  HTTP\n",
      " 8             100                  15         0.05                2  0.988717    0             1.202     3  HTTP\n",
      " 9             900                   2         0.2                 4  0.985885    0             4.499     4  HTTP\n",
      "10            1500                  10         0.2                 1  0.933738    1.11022e-16   7.912     0  ACK\n",
      "11            1500                   2         0.05                2  0.933738    1.11022e-16   6.786     1  ACK\n",
      "12             100                  10         0.1                 2  0.927527    0             0.924     2  ACK\n",
      "13             900                  10         0.15                1  0.933738    1.11022e-16   5.134     3  ACK\n",
      "14            1500                  15         0.1                 4  0.919107    0             8.241     4  ACK\n",
      "15            1500                   3         0.2                 4  0.0062932   0             9.333     0  UDP\n",
      "16            1100                  15         0.15                1  0.00775273  0            10.453     1  UDP\n",
      "17             900                   5         0.1                 2  0.0185751   0             4.294     2  UDP\n",
      "18             100                   5         0.2                 3  0.0185751   0             0.781     3  UDP\n",
      "19             500                   2         0.2                 4  0.00121172  0             1.718     4  UDP\n",
      "20             100                  15         0.1                 2  0.97493     0             0.831     0  ARP\n",
      "21            1100                   3         0.1                 3  0.967448    0             4.963     1  ARP\n",
      "22            1500                  15         0.05                4  0.964902    1.11022e-16   6.606     2  ARP\n",
      "23             100                   5         0.15                4  0.959791    0             0.701     3  ARP\n",
      "24             900                  10         0.2                 4  0.96235     0             3.843     4  ARP\n",
      "25            1100                   5         0.15                4  1           0             3.578     0  SP\n",
      "26            1100                   5         0.1                 3  1           0             4.496     1  SP\n",
      "27            1500                   3         0.15                1  1           0             4.451     2  SP\n",
      "28             900                   2         0.2                 1  1           0             2.639     3  SP\n",
      "29            1100                  15         0.15                2  1           0             4.742     4  SP\n",
      "30             500                   2         0.15                1  0.874319    0             2.578     0  BF\n",
      "31            1100                   5         0.2                 2  0.648233    0             6.338     1  BF\n",
      "32            1500                   2         0.1                 3  0.81021     0             6.604     2  BF\n",
      "33             900                   2         0.1                 4  0.790533    0             3.915     3  BF\n",
      "34            1500                  10         0.15                3  0.776165    0             7.893     4  BF\n",
      "      900    2    0.2    1    0.9832474816849818    1.1102230246251565e-16    3.651    4  SYN\n",
      "--  -----  ---  -----  ---  --------------------  ------------------------  -------  ---  -----\n",
      " 0    100   15   0.05    2             0.988717                0              1.202    3  HTTP\n",
      " 1   1500    2   0.05    2             0.933738                1.11022e-16    6.786    1  ACK\n",
      " 2    900    5   0.1     2             0.0185751               0              4.294    2  UDP\n",
      " 3    100   15   0.1     2             0.97493                 0              0.831    0  ARP\n",
      " 4   1100    5   0.1     3             1                       0              4.496    1  SP\n",
      " 5    500    2   0.15    1             0.874319                0              2.578    0  BF\n"
     ]
    },
    {
     "name": "stderr",
     "output_type": "stream",
     "text": [
      "\n"
     ]
    }
   ],
   "source": [
    "import xgboost\n",
    "import pandas as pd\n",
    "import numpy as np\n",
    "from sklearn.model_selection import PredefinedSplit\n",
    "import sklearn.metrics\n",
    "from tqdm import tqdm\n",
    "from time import time\n",
    "from tabulate import tabulate\n",
    "\n",
    "lines = [['n_estimators', 'min_child_weight', 'max_depth', 'learning_rate', \"F1\", \"Std\", \"Time\", \"No\", \"Attack\"]]\n",
    "\n",
    "for j in file_list:\n",
    "    print(j)\n",
    "\n",
    "    df = pd.read_csv(file_list[j][0], usecols=feature_list[j])\n",
    "    X_train = df.iloc[:, 0:-1]\n",
    "    df['Label'] = df['Label'].astype('category')\n",
    "    y_train = df['Label'].cat.codes\n",
    "\n",
    "    df = pd.read_csv(file_list[j][1], usecols=feature_list[j])\n",
    "    X_test = df.iloc[:, 0:-1]\n",
    "    df['Label'] = df['Label'].astype('category')\n",
    "    y_test = df['Label'].cat.codes\n",
    "\n",
    "    X = np.concatenate([X_train, X_test])\n",
    "    test_fold = [-1 for _ in range(X_train.shape[0])] + [0 for _ in range(X_test.shape[0])]\n",
    "    y = np.concatenate([y_train, y_test])\n",
    "    ps = PredefinedSplit(test_fold)\n",
    "\n",
    "    param_grid = {\n",
    "        'n_estimators': [100, 500, 900, 1100, 1500],\n",
    "        'max_depth': [2, 3, 5, 10, 15],\n",
    "        'learning_rate': [0.05, 0.1, 0.15, 0.20],\n",
    "        'min_child_weight': [1, 2, 3, 4]\n",
    "    }\n",
    "\n",
    "    second = time()\n",
    "    f1 = []\n",
    "    clf = xgboost.XGBClassifier(tree_method='gpu_hist')  # Sử dụng GPU\n",
    "    for ii in range(1):\n",
    "        clf.fit(X_train, y_train)\n",
    "        predict = clf.predict(X_test)\n",
    "        f1.append(sklearn.metrics.f1_score(y_test, predict, average=\"macro\"))\n",
    "    f1 = sum(f1) / len(f1)\n",
    "    print('%-35s %-20s %-8s %-8s' % (\"default\", f1, round(time() - second, 3), ii))\n",
    "\n",
    "    ######################################################################################################################\n",
    "    for i in tqdm(range(5)):\n",
    "        second = time()\n",
    "        a, b, clf = run_random_search(xgboost.XGBClassifier(tree_method='gpu_hist'), param_grid, X, y)  # Sử dụng GPU\n",
    "        f1 = []\n",
    "        for ii in range(5):\n",
    "            clf.fit(X_train, y_train)\n",
    "            predict = clf.predict(X_test)\n",
    "            f1.append(sklearn.metrics.f1_score(y_test, predict, average=\"macro\"))\n",
    "        f1_result = sum(f1) / len(f1)\n",
    "        f1 = np.array(f1)\n",
    "        stndtd = f1.std()\n",
    "        temp = list(a.values())\n",
    "        print('%-90s %-20s %-8s %-8s' % (a, f1_result, round(time() - second, 3), i))\n",
    "        temp = temp + [f1_result, stndtd, round(time() - second, 3), i, j]\n",
    "        lines.append(temp)\n",
    "\n",
    "results = pd.DataFrame(lines[1:], columns=lines[0])\n",
    "results.to_csv(\"XGB_HPO.csv\", index=False)\n",
    "\n",
    "print(tabulate(results, headers=list(results.columns)))\n",
    "\n",
    "final_parametres = []\n",
    "for i in results[\"Attack\"].unique():\n",
    "    df = results[results[\"Attack\"] == i]\n",
    "    m = df[\"F1\"].max()\n",
    "    df = df[df[\"F1\"] == m]\n",
    "    m = df[\"max_depth\"].min()\n",
    "    df = df[df[\"max_depth\"] == m]\n",
    "    final_parametres.append(list(df.values)[0])\n",
    "\n",
    "results = pd.DataFrame(final_parametres[1:], columns=final_parametres[0])\n",
    "print(tabulate(results, headers=list(results.columns)))\n"
   ]
  },
  {
   "cell_type": "markdown",
   "metadata": {},
   "source": [
    "### RandomSearch CV Naive Bayes"
   ]
  },
  {
   "cell_type": "code",
   "execution_count": 21,
   "metadata": {},
   "outputs": [],
   "source": [
    "from sklearn.naive_bayes import GaussianNB"
   ]
  },
  {
   "cell_type": "code",
   "execution_count": 22,
   "metadata": {},
   "outputs": [
    {
     "name": "stdout",
     "output_type": "stream",
     "text": [
      "SYN\n",
      "default                             0.8602517092548031   0.023    0       \n"
     ]
    },
    {
     "name": "stderr",
     "output_type": "stream",
     "text": [
      "100%|██████████| 10/10 [00:00<00:00, 10.39it/s]\n"
     ]
    },
    {
     "name": "stdout",
     "output_type": "stream",
     "text": [
      "HTTP\n",
      "default                             0.8477272914724974   0.004    0       \n"
     ]
    },
    {
     "name": "stderr",
     "output_type": "stream",
     "text": [
      "100%|██████████| 10/10 [00:00<00:00, 53.10it/s]\n"
     ]
    },
    {
     "name": "stdout",
     "output_type": "stream",
     "text": [
      "ACK\n",
      "default                             0.44730103984837444  0.009    0       \n"
     ]
    },
    {
     "name": "stderr",
     "output_type": "stream",
     "text": [
      "100%|██████████| 10/10 [00:00<00:00, 26.51it/s]\n"
     ]
    },
    {
     "name": "stdout",
     "output_type": "stream",
     "text": [
      "UDP\n",
      "default                             0.13848747415974952  0.053    0       \n"
     ]
    },
    {
     "name": "stderr",
     "output_type": "stream",
     "text": [
      "100%|██████████| 10/10 [00:02<00:00,  3.80it/s]\n"
     ]
    },
    {
     "name": "stdout",
     "output_type": "stream",
     "text": [
      "ARP\n",
      "default                             0.8711030894004033   0.003    0       \n"
     ]
    },
    {
     "name": "stderr",
     "output_type": "stream",
     "text": [
      "100%|██████████| 10/10 [00:00<00:00, 65.16it/s]\n"
     ]
    },
    {
     "name": "stdout",
     "output_type": "stream",
     "text": [
      "SP\n",
      "default                             0.9425323964186256   0.008    0       \n"
     ]
    },
    {
     "name": "stderr",
     "output_type": "stream",
     "text": [
      "100%|██████████| 10/10 [00:00<00:00, 22.57it/s]\n"
     ]
    },
    {
     "name": "stdout",
     "output_type": "stream",
     "text": [
      "BF\n",
      "default                             0.3075579114185498   0.067    0       \n"
     ]
    },
    {
     "name": "stderr",
     "output_type": "stream",
     "text": [
      "100%|██████████| 10/10 [00:03<00:00,  3.14it/s]"
     ]
    },
    {
     "name": "stdout",
     "output_type": "stream",
     "text": [
      "      var_smoothing           F1          Std    Time    No  Attack\n",
      "--  ---------------  -----------  -----------  ------  ----  --------\n",
      " 0      0.000657933  0.801597     0             0.101     0  SYN\n",
      " 1      1e-09        0.860252     1.11022e-16   0.103     1  SYN\n",
      " 2      0.00231013   0.784943     0             0.09      2  SYN\n",
      " 3      1            0.784943     0             0.082     3  SYN\n",
      " 4      1            0.784943     0             0.103     4  SYN\n",
      " 5      5.3367e-05   0.874485     0             0.092     5  SYN\n",
      " 6      0.0351119    0.784943     0             0.082     6  SYN\n",
      " 7      1            0.784943     0             0.082     7  SYN\n",
      " 8      1.51991e-07  0.917438     1.11022e-16   0.133     8  SYN\n",
      " 9      0.231013     0.784943     0             0.09      9  SYN\n",
      "10      2.31013e-05  0.655534     0             0.018     0  HTTP\n",
      "11      3.51119e-06  0.689046     0             0.021     1  HTTP\n",
      "12      5.3367e-06   0.680837     0             0.019     2  HTTP\n",
      "13      0.151991     0.577514     0             0.017     3  HTTP\n",
      "14      1.87382e-05  0.655534     0             0.015     4  HTTP\n",
      "15      2.31013e-08  0.831387     0             0.018     5  HTTP\n",
      "16      0.53367      0.557579     0             0.02      6  HTTP\n",
      "17      0.0187382    0.582395     0             0.022     7  HTTP\n",
      "18      1e-07        0.758497     0             0.018     8  HTTP\n",
      "19      0.432876     0.562626     0             0.02      9  HTTP\n",
      "20      1.23285e-09  0.4464       0             0.04      0  ACK\n",
      "21      2.31013e-06  0.412066     0             0.039     1  ACK\n",
      "22      3.51119e-07  0.420809     5.55112e-17   0.035     2  ACK\n",
      "23      2.31013e-07  0.42328      5.55112e-17   0.039     3  ACK\n",
      "24      3.51119e-09  0.441205     0             0.035     4  ACK\n",
      "25      1.87382e-08  0.434947     0             0.039     5  ACK\n",
      "26      2.84804e-06  0.410573     5.55112e-17   0.037     6  ACK\n",
      "27      1e-06        0.414155     5.55112e-17   0.037     7  ACK\n",
      "28      0.151991     0.547301     0             0.034     8  ACK\n",
      "29      8.11131e-09  0.437186     0             0.04      9  ACK\n",
      "30      1.51991e-06  0.174055     0             0.274     0  UDP\n",
      "31      0.00187382   3.43299e-05  0             0.235     1  UDP\n",
      "32      3.51119e-08  0.139661     0             0.271     2  UDP\n",
      "33      0.001        3.43299e-05  0             0.236     3  UDP\n",
      "34      0.0284804    3.43299e-05  0             0.238     4  UDP\n",
      "35      0.00432876   3.43299e-05  0             0.238     5  UDP\n",
      "36      0.000123285  0.369186     0             0.315     6  UDP\n",
      "37      0.0811131    3.43299e-05  0             0.239     7  UDP\n",
      "38      6.57933e-08  0.140857     0             0.278     8  UDP\n",
      "39      0.0001       0.367633     0             0.299     9  UDP\n",
      "40      0.0231013    0.684726     0             0.018     0  ARP\n",
      "41      0.000811131  0.623536     0             0.018     1  ARP\n",
      "42      0.000187382  0.691708     0             0.016     2  ARP\n",
      "43      0.53367      0.568191     0             0.014     3  ARP\n",
      "44      0.00151991   0.604511     0             0.013     4  ARP\n",
      "45      0.1          0.570836     0             0.014     5  ARP\n",
      "46      1.51991e-08  0.884399     0             0.014     6  ARP\n",
      "47      6.57933e-06  0.708117     0             0.016     7  ARP\n",
      "48      0.0351119    0.609304     0             0.015     8  ARP\n",
      "49      0.151991     0.570836     0             0.015     9  ARP\n",
      "50      3.51119e-05  0.942532     0             0.048     0  SP\n",
      "51      3.51119e-06  0.942532     0             0.04      1  SP\n",
      "52      0.432876     0.844466     0             0.039     2  SP\n",
      "53      2.31013e-09  0.942532     0             0.047     3  SP\n",
      "54      8.11131e-07  0.942532     0             0.042     4  SP\n",
      "55      0.151991     0.857282     0             0.043     5  SP\n",
      "56      1.51991e-09  0.942532     0             0.048     6  SP\n",
      "57      1            0.83415      0             0.042     7  SP\n",
      "58      2.84804e-08  0.942532     0             0.047     8  SP\n",
      "59      0.231013     0.857282     0             0.044     9  SP\n",
      "60      0.000151991  0.349717     0             0.324     0  BF\n",
      "61      0.0053367    0.349717     0             0.315     1  BF\n",
      "62      2.84804e-07  0.349645     0             0.318     2  BF\n",
      "63      0.0351119    0.349717     0             0.314     3  BF\n",
      "64      0.00811131   0.349717     0             0.309     4  BF\n",
      "65      3.51119e-05  0.349717     0             0.316     5  BF\n",
      "66      1e-09        0.307558     0             0.329     6  BF\n",
      "67      1.51991e-09  0.307558     0             0.33      7  BF\n",
      "68      0.001        0.349717     0             0.308     8  BF\n",
      "69      0.00053367   0.349717     0             0.311     9  BF\n"
     ]
    },
    {
     "name": "stderr",
     "output_type": "stream",
     "text": [
      "\n"
     ]
    }
   ],
   "source": [
    "lines=[['var_smoothing', \"F1\",\"Std\",\"Time\",\"No\",\"Attack\"]]\n",
    "for j in file_list:\n",
    "    print(j)\n",
    "    \n",
    "    df=pd.read_csv(file_list[j][0],usecols=feature_list[j]) \n",
    "    X_train = df.iloc[:,0:-1]\n",
    "    df['Label'] = df['Label'].astype('category')\n",
    "    y_train=df['Label'].cat.codes  \n",
    "\n",
    "\n",
    "    df=pd.read_csv(file_list[j][1],usecols=feature_list[j]) \n",
    "    X_test = df.iloc[:,0:-1]\n",
    "    df['Label'] = df['Label'].astype('category')\n",
    "    y_test=df['Label'].cat.codes  \n",
    "    \n",
    "    X= np.concatenate([X_train, X_test])\n",
    "    test_fold = [-1 for _ in range(X_train.shape[0])] + [0 for _ in range(X_test.shape[0])]\n",
    "    y = np.concatenate([y_train, y_test])\n",
    "    ps = PredefinedSplit(test_fold)\n",
    "    \n",
    "    second=time()\n",
    "\n",
    "    param_grid = {\n",
    "        'var_smoothing': np.logspace(0,-9, num=100),\n",
    "    }\n",
    "\n",
    " \n",
    "    second=time()\n",
    "    f1=[]\n",
    "    clf=GaussianNB()\n",
    "    for ii in range(1):\n",
    "        clf.fit(X_train, y_train)\n",
    "        predict =clf.predict(X_test)\n",
    "        f1.append(sklearn.metrics.f1_score(y_test, predict,average= \"macro\") )\n",
    "    f1=sum(f1)/len(f1)   \n",
    "    #if f1>0.76:\n",
    "    print('%-35s %-20s %-8s %-8s' % (\"default\",f1,round(time()-second,3),ii))\n",
    "    ######################################################################################################################\n",
    "    for i in tqdm(range(10)):\n",
    "        second=time()\n",
    "        a,b,clf=run_random_search(GaussianNB(),param_grid,X,y)\n",
    "        f1=[]\n",
    "        for ii in range(5):\n",
    "            clf.fit(X_train, y_train)\n",
    "            predict =clf.predict(X_test)\n",
    "            f1.append(sklearn.metrics.f1_score(y_test, predict,average= \"macro\") )\n",
    "        f1_result=sum(f1)/len(f1)   \n",
    "        f1=np.array(f1)\n",
    "        stndtd=f1.std()\n",
    "        temp=list(a.values())\n",
    "        #print('%-90s %-20s %-8s %-8s' % (a,f1_result,round(time()-second,3),i))\n",
    "        temp=temp+[f1_result,stndtd,round(time()-second,3),i,j]\n",
    "        lines.append(temp)\n",
    "\n",
    "\n",
    "results = pd.DataFrame (lines[1:], columns = lines[0])\n",
    "results.to_csv(\"NB_HPO.csv\",index=False)\n",
    "print (tabulate(results, headers=list(results.columns)))\n",
    "    \n"
   ]
  },
  {
   "cell_type": "markdown",
   "metadata": {},
   "source": [
    "### RandomSearch CV SVM"
   ]
  },
  {
   "cell_type": "code",
   "execution_count": null,
   "metadata": {},
   "outputs": [
    {
     "name": "stdout",
     "output_type": "stream",
     "text": [
      "SYN\n",
      "default                             0.7849428130587054   0.212    0       \n"
     ]
    },
    {
     "name": "stderr",
     "output_type": "stream",
     "text": [
      "100%|██████████| 1/1 [00:35<00:00, 35.27s/it]\n"
     ]
    },
    {
     "name": "stdout",
     "output_type": "stream",
     "text": [
      "{'C': np.float64(1.0), 'gamma': np.float64(1.0)}                                           0.49871553348176056  35.272   0       \n",
      "HTTP\n",
      "default                             0.6062213740458016   0.078    0       \n"
     ]
    },
    {
     "name": "stderr",
     "output_type": "stream",
     "text": [
      "100%|██████████| 1/1 [00:00<00:00,  5.88it/s]\n"
     ]
    },
    {
     "name": "stdout",
     "output_type": "stream",
     "text": [
      "{'C': np.float64(0.1), 'gamma': np.float64(0.01)}                                          0.4403752865291327   0.169    0       \n",
      "ACK\n",
      "default                             0.06262248472042994  0.442    0       \n"
     ]
    },
    {
     "name": "stderr",
     "output_type": "stream",
     "text": [
      "100%|██████████| 1/1 [00:00<00:00,  1.41it/s]\n"
     ]
    },
    {
     "name": "stdout",
     "output_type": "stream",
     "text": [
      "{'C': np.float64(0.01), 'gamma': np.float64(0.001)}                                        0.02168840082361016  0.708    0       \n",
      "UDP\n",
      "default                             3.432991814221741e-05 0.564    0       \n"
     ]
    },
    {
     "name": "stderr",
     "output_type": "stream",
     "text": [
      "100%|██████████| 1/1 [00:00<00:00,  1.03it/s]\n"
     ]
    },
    {
     "name": "stdout",
     "output_type": "stream",
     "text": [
      "{'C': np.float64(0.001), 'gamma': np.float64(0.001)}                                       3.432991814221741e-05 0.968    0       \n",
      "ARP\n",
      "default                             0.5681910984075133   0.014    0       \n"
     ]
    },
    {
     "name": "stderr",
     "output_type": "stream",
     "text": [
      "100%|██████████| 1/1 [00:00<00:00, 32.27it/s]\n"
     ]
    },
    {
     "name": "stdout",
     "output_type": "stream",
     "text": [
      "{'C': np.float64(0.01), 'gamma': np.float64(0.1)}                                          0.27938671209540034  0.031    0       \n",
      "SP\n",
      "default                             0.9123699239911589   0.066    0       \n"
     ]
    },
    {
     "name": "stderr",
     "output_type": "stream",
     "text": [
      "100%|██████████| 1/1 [00:00<00:00,  7.49it/s]\n"
     ]
    },
    {
     "name": "stdout",
     "output_type": "stream",
     "text": [
      "{'C': np.float64(0.1), 'gamma': np.float64(1.0)}                                           0.49264996053670085  0.132    0       \n",
      "BF\n",
      "default                             0.3499427203203534   2.714    0       \n"
     ]
    },
    {
     "name": "stderr",
     "output_type": "stream",
     "text": [
      "100%|██████████| 1/1 [00:11<00:00, 11.81s/it]"
     ]
    },
    {
     "name": "stdout",
     "output_type": "stream",
     "text": [
      "{'C': np.float64(1.0), 'gamma': np.float64(0.1)}                                           0.3499427203203534   11.814   0       \n",
      "      gamma      C           F1    Std    Time    No  Attack\n",
      "--  -------  -----  -----------  -----  ------  ----  --------\n",
      " 0    1      1      0.498716         0  35.272     0  SYN\n",
      " 1    0.1    0.01   0.440375         0   0.169     0  HTTP\n",
      " 2    0.01   0.001  0.0216884        0   0.708     0  ACK\n",
      " 3    0.001  0.001  3.43299e-05      0   0.968     0  UDP\n",
      " 4    0.01   0.1    0.279387         0   0.031     0  ARP\n",
      " 5    0.1    1      0.49265          0   0.132     0  SP\n",
      " 6    1      0.1    0.349943         0  11.814     0  BF\n"
     ]
    },
    {
     "name": "stderr",
     "output_type": "stream",
     "text": [
      "\n"
     ]
    }
   ],
   "source": [
    "lines = [[\"gamma\", \"C\", \"F1\", \"Std\", \"Time\", \"No\", \"Attack\"]]\n",
    "\n",
    "for j in file_list:\n",
    "    print(j)\n",
    "\n",
    "    df = pd.read_csv(file_list[j][0], usecols=feature_list[j])\n",
    "    X_train = df.iloc[:, 0:-1]\n",
    "    df[\"Label\"] = df[\"Label\"].astype(\"category\")\n",
    "    y_train = df[\"Label\"].cat.codes\n",
    "\n",
    "    df = pd.read_csv(file_list[j][1], usecols=feature_list[j])\n",
    "    X_test = df.iloc[:, 0:-1]\n",
    "    df[\"Label\"] = df[\"Label\"].astype(\"category\")\n",
    "    y_test = df[\"Label\"].cat.codes\n",
    "\n",
    "    X = np.concatenate([X_train, X_test])\n",
    "    test_fold = [-1 for _ in range(X_train.shape[0])] + [\n",
    "        0 for _ in range(X_test.shape[0])\n",
    "    ]\n",
    "    y = np.concatenate([y_train, y_test])\n",
    "    ps = PredefinedSplit(test_fold)\n",
    "\n",
    "    param_grid = {\"C\": [0.001, 0.01, 0.1, 1, 10], \"gamma\": [0.001, 0.01, 0.1, 1]}\n",
    "\n",
    "    second = time()\n",
    "    f1 = []\n",
    "    clf = svm.SVC()\n",
    "    for ii in range(1):\n",
    "        clf.fit(X_train, y_train)\n",
    "        predict = clf.predict(X_test)\n",
    "        f1.append(sklearn.metrics.f1_score(y_test, predict, average=\"macro\"))\n",
    "    f1 = sum(f1) / len(f1)\n",
    "    # if f1>0.76:\n",
    "    print(\"%-35s %-20s %-8s %-8s\" % (\"default\", f1, round(time() - second, 3), ii))\n",
    "\n",
    "    ######################################################################################################################\n",
    "    for i in tqdm(range(1)):\n",
    "        second = time()\n",
    "        a, b, clf = run_random_search(svm.SVC(), param_grid, X, y)\n",
    "        f1 = []\n",
    "        for ii in range(1):\n",
    "            clf.fit(X_train, y_train)\n",
    "            predict = clf.predict(X_test)\n",
    "            f1.append(sklearn.metrics.f1_score(y_test, predict, average=\"macro\"))\n",
    "        f1_result = sum(f1) / len(f1)\n",
    "        f1 = np.array(f1)\n",
    "        stndtd = f1.std()\n",
    "        temp = list(a.values())\n",
    "        print(\"%-90s %-20s %-8s %-8s\" % (a, f1_result, round(time() - second, 3), i))\n",
    "        temp = temp + [f1_result, stndtd, round(time() - second, 3), i, j]\n",
    "        lines.append(temp)\n",
    "\n",
    "        # if f1>0.76:\n",
    "\n",
    "results = pd.DataFrame(lines[1:], columns=lines[0])\n",
    "results.to_csv(\"svm_HPO.csv\", index=False)\n",
    "\n",
    "\n",
    "print(tabulate(results, headers=list(results.columns)))\n"
   ]
  }
 ],
 "metadata": {
  "kernelspec": {
   "display_name": "venv",
   "language": "python",
   "name": "python3"
  },
  "language_info": {
   "codemirror_mode": {
    "name": "ipython",
    "version": 3
   },
   "file_extension": ".py",
   "mimetype": "text/x-python",
   "name": "python",
   "nbconvert_exporter": "python",
   "pygments_lexer": "ipython3",
   "version": "3.12.7"
  }
 },
 "nbformat": 4,
 "nbformat_minor": 2
}
