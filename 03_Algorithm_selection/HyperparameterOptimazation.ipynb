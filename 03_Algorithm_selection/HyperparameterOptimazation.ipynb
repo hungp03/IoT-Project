{
 "cells": [
  {
   "cell_type": "code",
   "execution_count": 1,
   "metadata": {},
   "outputs": [],
   "source": [
    "%matplotlib inline\n",
    "from scipy.stats import randint as sp_randint\n",
    "from scipy.stats import uniform as sp_randFloat\n",
    "from sklearn import svm\n",
    "from tqdm import tqdm\n",
    "from sklearn.ensemble import RandomForestClassifier\n",
    "from sklearn.model_selection import RandomizedSearchCV\n",
    "from sklearn.model_selection import train_test_split\n",
    "from time import time\n",
    "from tabulate import tabulate\n",
    "import numpy as np\n",
    "import pandas as pd\n",
    "import sklearn\n",
    "import warnings\n",
    "warnings.filterwarnings('ignore')\n",
    "import os"
   ]
  },
  {
   "cell_type": "code",
   "execution_count": 2,
   "metadata": {},
   "outputs": [],
   "source": [
    "from scipy.stats import randint as sp_randInt\n",
    "\n",
    "from sklearn.model_selection import GridSearchCV, PredefinedSplit"
   ]
  },
  {
   "cell_type": "code",
   "execution_count": 3,
   "metadata": {},
   "outputs": [],
   "source": [
    "import json\n",
    "with open('GA_output_ET.json', 'r') as fp:\n",
    "    feature_list = json.load(fp)"
   ]
  },
  {
   "cell_type": "code",
   "execution_count": 4,
   "metadata": {},
   "outputs": [
    {
     "data": {
      "text/plain": [
       "{'SYN': ['Src Port',\n",
       "  'Tot Fwd Pkts',\n",
       "  'Tot Bwd Pkts',\n",
       "  'TotLen Fwd Pkts',\n",
       "  'TotLen Bwd Pkts',\n",
       "  'Fwd Pkt Len Min',\n",
       "  'Fwd Pkt Len Mean',\n",
       "  'Fwd Pkt Len Std',\n",
       "  'Bwd Pkt Len Max',\n",
       "  'Bwd Pkt Len Min',\n",
       "  'Bwd Pkt Len Std',\n",
       "  'Flow Byts/s',\n",
       "  'Flow Pkts/s',\n",
       "  'Flow IAT Std',\n",
       "  'Flow IAT Min',\n",
       "  'Fwd IAT Tot',\n",
       "  'Fwd IAT Std',\n",
       "  'Fwd IAT Min',\n",
       "  'Bwd IAT Tot',\n",
       "  'Bwd IAT Std',\n",
       "  'Bwd IAT Min',\n",
       "  'Bwd PSH Flags',\n",
       "  'Fwd Header Len',\n",
       "  'Fwd Pkts/s',\n",
       "  'Bwd Pkts/s',\n",
       "  'Pkt Len Min',\n",
       "  'Pkt Len Mean',\n",
       "  'Pkt Len Std',\n",
       "  'Pkt Len Var',\n",
       "  'SYN Flag Cnt',\n",
       "  'PSH Flag Cnt',\n",
       "  'Pkt Size Avg',\n",
       "  'Subflow Fwd Byts',\n",
       "  'Subflow Bwd Byts',\n",
       "  'Active Min',\n",
       "  'Idle Mean',\n",
       "  'Idle Std',\n",
       "  'Idle Max',\n",
       "  'Idle Min',\n",
       "  'Label'],\n",
       " 'HTTP': ['Dst Port',\n",
       "  'Protocol',\n",
       "  'Fwd Pkt Len Max',\n",
       "  'Bwd Pkt Len Max',\n",
       "  'Bwd Pkt Len Min',\n",
       "  'Bwd Pkt Len Std',\n",
       "  'Fwd IAT Tot',\n",
       "  'Fwd IAT Min',\n",
       "  'Bwd IAT Tot',\n",
       "  'Bwd IAT Mean',\n",
       "  'Bwd IAT Max',\n",
       "  'Bwd IAT Min',\n",
       "  'Bwd PSH Flags',\n",
       "  'Fwd Header Len',\n",
       "  'Bwd Header Len',\n",
       "  'Pkt Len Min',\n",
       "  'Pkt Len Max',\n",
       "  'Pkt Len Mean',\n",
       "  'Pkt Len Std',\n",
       "  'FIN Flag Cnt',\n",
       "  'RST Flag Cnt',\n",
       "  'CWE Flag Count',\n",
       "  'ECE Flag Cnt',\n",
       "  'Down/Up Ratio',\n",
       "  'Pkt Size Avg',\n",
       "  'Bwd Seg Size Avg',\n",
       "  'Subflow Bwd Pkts',\n",
       "  'Subflow Bwd Byts',\n",
       "  'Fwd Act Data Pkts',\n",
       "  'Active Std',\n",
       "  'Active Max',\n",
       "  'Idle Mean',\n",
       "  'Idle Std',\n",
       "  'Idle Max',\n",
       "  'Label'],\n",
       " 'ACK': ['Src Port',\n",
       "  'Tot Fwd Pkts',\n",
       "  'Tot Bwd Pkts',\n",
       "  'TotLen Fwd Pkts',\n",
       "  'TotLen Bwd Pkts',\n",
       "  'Fwd Pkt Len Max',\n",
       "  'Fwd Pkt Len Mean',\n",
       "  'Fwd Pkt Len Std',\n",
       "  'Bwd Pkt Len Mean',\n",
       "  'Flow Byts/s',\n",
       "  'Flow Pkts/s',\n",
       "  'Flow IAT Std',\n",
       "  'Flow IAT Min',\n",
       "  'Fwd IAT Max',\n",
       "  'Bwd IAT Tot',\n",
       "  'Bwd IAT Std',\n",
       "  'Bwd Header Len',\n",
       "  'Fwd Pkts/s',\n",
       "  'Pkt Len Mean',\n",
       "  'Pkt Len Std',\n",
       "  'Pkt Len Var',\n",
       "  'SYN Flag Cnt',\n",
       "  'ACK Flag Cnt',\n",
       "  'Pkt Size Avg',\n",
       "  'Fwd Seg Size Avg',\n",
       "  'Bwd Seg Size Avg',\n",
       "  'Subflow Fwd Byts',\n",
       "  'Subflow Bwd Pkts',\n",
       "  'Subflow Bwd Byts',\n",
       "  'Init Bwd Win Byts',\n",
       "  'Fwd Act Data Pkts',\n",
       "  'Idle Std',\n",
       "  'Label'],\n",
       " 'UDP': ['Src Port', 'Fwd IAT Std', 'Label'],\n",
       " 'ARP': ['Src Port',\n",
       "  'Dst Port',\n",
       "  'Protocol',\n",
       "  'Tot Bwd Pkts',\n",
       "  'TotLen Fwd Pkts',\n",
       "  'TotLen Bwd Pkts',\n",
       "  'Fwd Pkt Len Max',\n",
       "  'Bwd Pkt Len Max',\n",
       "  'Bwd Pkt Len Mean',\n",
       "  'Bwd Pkt Len Std',\n",
       "  'Flow Byts/s',\n",
       "  'Flow IAT Mean',\n",
       "  'Flow IAT Max',\n",
       "  'Fwd IAT Mean',\n",
       "  'Fwd IAT Std',\n",
       "  'Fwd IAT Max',\n",
       "  'Fwd IAT Min',\n",
       "  'Bwd IAT Tot',\n",
       "  'Bwd IAT Mean',\n",
       "  'Bwd IAT Std',\n",
       "  'Bwd PSH Flags',\n",
       "  'Fwd Pkts/s',\n",
       "  'Pkt Len Max',\n",
       "  'Pkt Len Mean',\n",
       "  'Pkt Len Var',\n",
       "  'SYN Flag Cnt',\n",
       "  'ACK Flag Cnt',\n",
       "  'Down/Up Ratio',\n",
       "  'Pkt Size Avg',\n",
       "  'Fwd Seg Size Avg',\n",
       "  'Bwd Seg Size Avg',\n",
       "  'Subflow Fwd Pkts',\n",
       "  'Subflow Fwd Byts',\n",
       "  'Active Mean',\n",
       "  'Active Max',\n",
       "  'Idle Std',\n",
       "  'Label'],\n",
       " 'SP': ['Protocol',\n",
       "  'Tot Bwd Pkts',\n",
       "  'TotLen Fwd Pkts',\n",
       "  'TotLen Bwd Pkts',\n",
       "  'Fwd Pkt Len Max',\n",
       "  'Fwd Pkt Len Min',\n",
       "  'Fwd Pkt Len Mean',\n",
       "  'Fwd IAT Mean',\n",
       "  'Fwd IAT Std',\n",
       "  'Fwd IAT Min',\n",
       "  'Bwd IAT Tot',\n",
       "  'Bwd IAT Mean',\n",
       "  'Bwd IAT Max',\n",
       "  'Fwd Header Len',\n",
       "  'Fwd Pkts/s',\n",
       "  'Pkt Len Min',\n",
       "  'Pkt Len Max',\n",
       "  'Pkt Len Mean',\n",
       "  'Pkt Len Std',\n",
       "  'Pkt Len Var',\n",
       "  'SYN Flag Cnt',\n",
       "  'Down/Up Ratio',\n",
       "  'Fwd Seg Size Avg',\n",
       "  'Bwd Seg Size Avg',\n",
       "  'Subflow Fwd Pkts',\n",
       "  'Subflow Fwd Byts',\n",
       "  'Subflow Bwd Pkts',\n",
       "  'Fwd Act Data Pkts',\n",
       "  'Active Mean',\n",
       "  'Active Std',\n",
       "  'Active Max',\n",
       "  'Idle Mean',\n",
       "  'Idle Max',\n",
       "  'Label'],\n",
       " 'BF': ['Tot Fwd Pkts',\n",
       "  'Fwd Pkt Len Mean',\n",
       "  'Flow Byts/s',\n",
       "  'Flow IAT Std',\n",
       "  'Fwd IAT Tot',\n",
       "  'Fwd IAT Mean',\n",
       "  'Fwd IAT Std',\n",
       "  'Fwd IAT Min',\n",
       "  'Fwd Header Len',\n",
       "  'Bwd Header Len',\n",
       "  'Pkt Len Max',\n",
       "  'Subflow Fwd Pkts',\n",
       "  'Subflow Fwd Byts',\n",
       "  'Subflow Bwd Pkts',\n",
       "  'Label']}"
      ]
     },
     "execution_count": 4,
     "metadata": {},
     "output_type": "execute_result"
    }
   ],
   "source": [
    "feature_list"
   ]
  },
  {
   "cell_type": "code",
   "execution_count": 5,
   "metadata": {},
   "outputs": [],
   "source": [
    "file_list={\n",
    "\"SYN\":[ '../csvs\\\\dos-synflooding-1-dec.pcap_Flow.csv', '../csvs\\\\dos-synflooding-6-dec.pcap_Flow.csv',],\n",
    "\"HTTP\":['../csvs\\\\mirai-httpflooding-4-dec.pcap_Flow.csv', '../csvs\\\\mirai-httpflooding-1-dec.pcap_Flow.csv'],\n",
    "\"ACK\":['../csvs\\\\mirai-ackflooding-1-dec.pcap_Flow.csv','../csvs\\\\mirai-ackflooding-4-dec.pcap_Flow.csv'],\n",
    "\"UDP\":[ '../csvs\\\\mirai-udpflooding-4-dec.pcap_Flow.csv','../csvs\\\\mirai-udpflooding-1-dec.pcap_Flow.csv'],\n",
    "\"ARP\":[ '../csvs\\\\mitm-arpspoofing-6-dec.pcap_Flow.csv', '../csvs\\\\mitm-arpspoofing-1-dec.pcap_Flow.csv'],\n",
    "\"SP\":['../csvs\\\\scan-hostport-6-dec.pcap_Flow.csv','../csvs\\\\scan-hostport-3-dec.pcap_Flow.csv'],\n",
    "\"BF\":[ '../csvs\\\\mirai-hostbruteforce-4-dec.pcap_Flow.csv','../csvs\\\\mirai-hostbruteforce-1-dec.pcap_Flow.csv']\n",
    "}"
   ]
  },
  {
   "cell_type": "code",
   "execution_count": 6,
   "metadata": {},
   "outputs": [],
   "source": [
    "def run_random_search(model, params, x_train, y_train):\n",
    "    #grid = GridSearchCV(model, params, cv = ps, n_jobs = -1, scoring = score, verbose = 0, refit = False)\n",
    "    grid =RandomizedSearchCV(model, param_grid, cv=ps,scoring = 'f1_macro')\n",
    "    grid.fit(x_train, y_train)\n",
    "    return (grid.best_params_, round(grid.best_score_,8),grid.best_estimator_)"
   ]
  },
  {
   "cell_type": "code",
   "execution_count": 7,
   "metadata": {},
   "outputs": [],
   "source": [
    "def find_the_way(path,file_format,con=\"\"):\n",
    "    files_add = []\n",
    "    # r=root, d=directories, f = files\n",
    "    for r, d, f in os.walk(path):\n",
    "        for file in f:\n",
    "            if file_format in file:\n",
    "                if con in file:\n",
    "                    files_add.append(os.path.join(r, file))  \n",
    "            \n",
    "    return files_add"
   ]
  },
  {
   "cell_type": "markdown",
   "metadata": {},
   "source": [
    "### RandomizedSearchCV RF"
   ]
  },
  {
   "cell_type": "code",
   "execution_count": 8,
   "metadata": {},
   "outputs": [
    {
     "name": "stdout",
     "output_type": "stream",
     "text": [
      "SYN\n",
      "HYPERPARAMETERS                     F1 Score             Time     No      \n",
      "default                             0.9914825015895742   0.62     0       \n"
     ]
    },
    {
     "name": "stderr",
     "output_type": "stream",
     "text": [
      "100%|██████████| 10/10 [01:32<00:00,  9.27s/it]\n"
     ]
    },
    {
     "name": "stdout",
     "output_type": "stream",
     "text": [
      "HTTP\n",
      "HYPERPARAMETERS                     F1 Score             Time     No      \n",
      "default                             0.9915448876155182   0.118    0       \n"
     ]
    },
    {
     "name": "stderr",
     "output_type": "stream",
     "text": [
      "100%|██████████| 10/10 [00:19<00:00,  1.96s/it]\n"
     ]
    },
    {
     "name": "stdout",
     "output_type": "stream",
     "text": [
      "ACK\n",
      "HYPERPARAMETERS                     F1 Score             Time     No      \n",
      "default                             0.8740700782294333   0.529    0       \n"
     ]
    },
    {
     "name": "stderr",
     "output_type": "stream",
     "text": [
      "100%|██████████| 10/10 [01:45<00:00, 10.55s/it]\n"
     ]
    },
    {
     "name": "stdout",
     "output_type": "stream",
     "text": [
      "UDP\n",
      "HYPERPARAMETERS                     F1 Score             Time     No      \n",
      "default                             0.45965608465608465  0.088    0       \n"
     ]
    },
    {
     "name": "stderr",
     "output_type": "stream",
     "text": [
      "100%|██████████| 10/10 [00:14<00:00,  1.45s/it]\n"
     ]
    },
    {
     "name": "stdout",
     "output_type": "stream",
     "text": [
      "ARP\n",
      "HYPERPARAMETERS                     F1 Score             Time     No      \n",
      "default                             0.6643448253826245   0.103    0       \n"
     ]
    },
    {
     "name": "stderr",
     "output_type": "stream",
     "text": [
      "100%|██████████| 10/10 [00:14<00:00,  1.49s/it]\n"
     ]
    },
    {
     "name": "stdout",
     "output_type": "stream",
     "text": [
      "SP\n",
      "HYPERPARAMETERS                     F1 Score             Time     No      \n",
      "default                             0.9817329796640142   0.101    0       \n"
     ]
    },
    {
     "name": "stderr",
     "output_type": "stream",
     "text": [
      "100%|██████████| 10/10 [00:18<00:00,  1.87s/it]\n"
     ]
    },
    {
     "name": "stdout",
     "output_type": "stream",
     "text": [
      "BF\n",
      "HYPERPARAMETERS                     F1 Score             Time     No      \n",
      "default                             0.6002563060669521   0.146    0       \n"
     ]
    },
    {
     "name": "stderr",
     "output_type": "stream",
     "text": [
      "100%|██████████| 10/10 [00:28<00:00,  2.89s/it]"
     ]
    },
    {
     "name": "stdout",
     "output_type": "stream",
     "text": [
      "    bootst    criter      max_depth    max_features    min_samp_split    n_estimators        F1         Std    Time    No  Attack\n",
      "--  --------  --------  -----------  --------------  ----------------  --------------  --------  ----------  ------  ----  --------\n",
      " 0  True      entropy             6               7                 9              36  0.991483  0            4.861     3  SYN\n",
      " 1  True      gini               12              10                 6              24  0.994368  0            1.154     4  HTTP\n",
      " 2  False     gini                5               8                 7             159  0.987245  0.00033716  15.204     5  ACK\n",
      " 3  False     gini                6               8                 6              60  0.973457  0            1         1  UDP\n",
      " 4  False     gini               29               1                 4             166  0.70429   0.0155484    1.577     0  ARP\n",
      " 5  False     gini                8               9                 9             157  1         0            2.63      7  SP\n",
      " 6  True      gini               23              10                 8             114  0.601167  0.0127682    3.841     7  BF\n"
     ]
    },
    {
     "name": "stderr",
     "output_type": "stream",
     "text": [
      "\n"
     ]
    }
   ],
   "source": [
    "lines=[['bootst', 'criter', 'max_depth', 'max_features',\"min_samp_split\",\"n_estimators\", \"F1\",\"Std\",\"Time\",\"No\",\"Attack\"]]\n",
    "\n",
    "\n",
    "\n",
    "for j in file_list:\n",
    "    print(j)\n",
    "    \n",
    "    \n",
    "    df=pd.read_csv(file_list[j][0],usecols=feature_list[j]) \n",
    "    X_train = df.iloc[:,0:-1]\n",
    "    df['Label'] = df['Label'].astype('category')\n",
    "    y_train=df['Label'].cat.codes  \n",
    "\n",
    "\n",
    "    df=pd.read_csv(file_list[j][1],usecols=feature_list[j]) \n",
    "    X_test = df.iloc[:,0:-1]\n",
    "    df['Label'] = df['Label'].astype('category')\n",
    "    y_test=df['Label'].cat.codes  \n",
    "    \n",
    "    \n",
    "    \n",
    "    X= np.concatenate([X_train, X_test])\n",
    "    test_fold = [-1 for _ in range(X_train.shape[0])] + [0 for _ in range(X_test.shape[0])]\n",
    "    y = np.concatenate([y_train, y_test])\n",
    "    ps = PredefinedSplit(test_fold)\n",
    "    print ('%-35s %-20s %-8s %-8s' % (\"HYPERPARAMETERS\",\"F1 Score\", \"Time\", \"No\"))\n",
    "    # use a full grid over all parameters\n",
    "    param_grid = {\"max_depth\":np.linspace(1, 32, 32, endpoint=True).astype(int),\n",
    "                  \"n_estimators\" : sp_randint(1, 200),\n",
    "                  \"max_features\": sp_randint(1, 11),\n",
    "                  \"min_samples_split\":sp_randint(2, 11),\n",
    "                  \"bootstrap\": [True, False],\n",
    "                  \"criterion\": [\"gini\", \"entropy\"]}\n",
    "    second=time()\n",
    "    f1=[]\n",
    "    clf=RandomForestClassifier()\n",
    "    for ii in range(1):\n",
    "        clf.fit(X_train, y_train)\n",
    "        predict =clf.predict(X_test)\n",
    "        f1.append(sklearn.metrics.f1_score(y_test, predict,average= \"macro\") )\n",
    "    f1=sum(f1)/len(f1)   \n",
    "    #if f1>0.76:\n",
    "    print('%-35s %-20s %-8s %-8s' % (\"default\",f1,round(time()-second,3),ii))\n",
    "    ######################################################################################################################\n",
    "    for i in tqdm(range(10)):\n",
    "        second=time()\n",
    "        a,b,clf=run_random_search(RandomForestClassifier(),param_grid,X,y)\n",
    "        f1=[]\n",
    "        for ii in range(5):\n",
    "            clf.fit(X_train, y_train)\n",
    "            predict =clf.predict(X_test)\n",
    "            f1.append(sklearn.metrics.f1_score(y_test, predict,average= \"macro\") )\n",
    "        f1_result=sum(f1)/len(f1)   \n",
    "        f1=np.array(f1)\n",
    "        stndtd=f1.std()\n",
    "        temp=list(a.values())\n",
    "        #print('%-90s %-20s %-8s %-8s' % (a,f1_result,round(time()-second,3),i))\n",
    "        temp=temp+[f1_result,stndtd,round(time()-second,3),i,j]\n",
    "        lines.append(temp)\n",
    "\n",
    "        #if f1>0.76:\n",
    "results = pd.DataFrame (lines[1:], columns = lines[0])\n",
    "results.to_csv(\"RF_HPO.csv\",index=False)\n",
    "\n",
    "final_parametres=[['bootst', 'criter', 'max_depth', 'max_features',\"min_samp_split\",\"n_estimators\", \"F1\",\"Std\",\"Time\",\"No\",\"Attack\"]]\n",
    "\n",
    "for i in results[\"Attack\"].unique():\n",
    "    df=results[results[\"Attack\"]==i]\n",
    "    m=df[\"F1\"].max()\n",
    "    df=df[df[\"F1\"]==m]\n",
    "    m=df[\"max_depth\"].min()\n",
    "    df=df[df[\"max_depth\"]==m]  \n",
    "    final_parametres.append(list(df.values)[0])\n",
    "results = pd.DataFrame (final_parametres[1:], columns=  final_parametres[0])\n",
    "print (tabulate(results, headers=list(results.columns)))"
   ]
  },
  {
   "cell_type": "markdown",
   "metadata": {},
   "source": [
    "### RandomSearch CV Naive Bayes"
   ]
  },
  {
   "cell_type": "code",
   "execution_count": 9,
   "metadata": {},
   "outputs": [],
   "source": [
    "from sklearn.naive_bayes import GaussianNB"
   ]
  },
  {
   "cell_type": "code",
   "execution_count": 10,
   "metadata": {},
   "outputs": [
    {
     "name": "stdout",
     "output_type": "stream",
     "text": [
      "SYN\n",
      "default                             0.8363820089439284   0.016    0       \n"
     ]
    },
    {
     "name": "stderr",
     "output_type": "stream",
     "text": [
      "100%|██████████| 10/10 [00:02<00:00,  3.87it/s]\n"
     ]
    },
    {
     "name": "stdout",
     "output_type": "stream",
     "text": [
      "HTTP\n",
      "default                             0.8079057975287013   0.004    0       \n"
     ]
    },
    {
     "name": "stderr",
     "output_type": "stream",
     "text": [
      "100%|██████████| 10/10 [00:00<00:00, 27.17it/s]\n"
     ]
    },
    {
     "name": "stdout",
     "output_type": "stream",
     "text": [
      "ACK\n",
      "default                             0.5361331819901627   0.005    0       \n"
     ]
    },
    {
     "name": "stderr",
     "output_type": "stream",
     "text": [
      "100%|██████████| 10/10 [00:00<00:00, 11.66it/s]\n"
     ]
    },
    {
     "name": "stdout",
     "output_type": "stream",
     "text": [
      "UDP\n",
      "default                             0.8215863004362961   0.002    0       \n"
     ]
    },
    {
     "name": "stderr",
     "output_type": "stream",
     "text": [
      "100%|██████████| 10/10 [00:00<00:00, 36.20it/s]\n"
     ]
    },
    {
     "name": "stdout",
     "output_type": "stream",
     "text": [
      "ARP\n",
      "default                             0.41554065669589135  0.002    0       \n"
     ]
    },
    {
     "name": "stderr",
     "output_type": "stream",
     "text": [
      "100%|██████████| 10/10 [00:00<00:00, 31.90it/s]\n"
     ]
    },
    {
     "name": "stdout",
     "output_type": "stream",
     "text": [
      "SP\n",
      "default                             0.8898049375190491   0.004    0       \n"
     ]
    },
    {
     "name": "stderr",
     "output_type": "stream",
     "text": [
      "100%|██████████| 10/10 [00:00<00:00, 24.63it/s]\n"
     ]
    },
    {
     "name": "stdout",
     "output_type": "stream",
     "text": [
      "BF\n",
      "default                             0.23954248991067842  0.002    0       \n"
     ]
    },
    {
     "name": "stderr",
     "output_type": "stream",
     "text": [
      "100%|██████████| 10/10 [00:00<00:00, 30.96it/s]"
     ]
    },
    {
     "name": "stdout",
     "output_type": "stream",
     "text": [
      "      var_smoothing        F1          Std    Time    No  Attack\n",
      "--  ---------------  --------  -----------  ------  ----  --------\n",
      " 0      1.87382e-06  0.982673  0             0.252     0  SYN\n",
      " 1      1.51991e-05  0.954331  0             0.238     1  SYN\n",
      " 2      3.51119e-06  0.982673  0             0.233     2  SYN\n",
      " 3      1.87382e-06  0.982673  0             0.283     3  SYN\n",
      " 4      1e-06        0.944144  0             0.295     4  SYN\n",
      " 5      1.87382e-05  0.922734  0             0.28      5  SYN\n",
      " 6      1.87382e-06  0.982673  0             0.272     6  SYN\n",
      " 7      2.84804e-06  0.982673  0             0.256     7  SYN\n",
      " 8      1e-05        0.973555  0             0.235     8  SYN\n",
      " 9      1.23285e-07  0.888201  1.11022e-16   0.232     9  SYN\n",
      "10      1.51991e-07  0.684955  0             0.04      0  HTTP\n",
      "11      1.87382e-09  0.807906  0             0.037     1  HTTP\n",
      "12      6.57933e-08  0.794142  0             0.032     2  HTTP\n",
      "13      1.23285e-08  0.794142  0             0.039     3  HTTP\n",
      "14      1e-09        0.807906  0             0.034     4  HTTP\n",
      "15      4.32876e-09  0.801057  0             0.035     5  HTTP\n",
      "16      4.32876e-09  0.801057  0             0.038     6  HTTP\n",
      "17      1e-08        0.794142  0             0.034     7  HTTP\n",
      "18      6.57933e-09  0.794142  0             0.036     8  HTTP\n",
      "19      2.31013e-09  0.804489  0             0.038     9  HTTP\n",
      "20      2.31013e-06  0.743839  0             0.09      0  ACK\n",
      "21      1.23285e-06  0.695651  0             0.084     1  ACK\n",
      "22      2.31013e-06  0.743839  0             0.085     2  ACK\n",
      "23      1.87382e-06  0.737645  0             0.083     3  ACK\n",
      "24      4.32876e-07  0.604624  0             0.084     4  ACK\n",
      "25      8.11131e-07  0.660686  0             0.085     5  ACK\n",
      "26      2.31013e-06  0.743839  0             0.087     6  ACK\n",
      "27      5.3367e-06   0.704463  0             0.084     7  ACK\n",
      "28      5.3367e-06   0.704463  0             0.086     8  ACK\n",
      "29      1.87382e-05  0.663213  0             0.084     9  ACK\n",
      "30      3.51119e-07  0.836931  1.11022e-16   0.032     0  UDP\n",
      "31      1.51991e-07  0.831821  1.11022e-16   0.028     1  UDP\n",
      "32      1e-06        0.852236  1.11022e-16   0.026     2  UDP\n",
      "33      3.51119e-07  0.836931  1.11022e-16   0.026     3  UDP\n",
      "34      1e-06        0.852236  1.11022e-16   0.028     4  UDP\n",
      "35      4.32876e-08  0.824147  1.11022e-16   0.026     5  UDP\n",
      "36      1.23285e-06  0.852236  1.11022e-16   0.027     6  UDP\n",
      "37      1.87382e-07  0.831821  1.11022e-16   0.025     7  UDP\n",
      "38      8.11131e-07  0.852236  1.11022e-16   0.028     8  UDP\n",
      "39      5.3367e-07   0.847137  0             0.028     9  UDP\n",
      "40      8.11131e-08  0.625117  0             0.038     0  ARP\n",
      "41      1.87382e-08  0.622426  0             0.032     1  ARP\n",
      "42      2.31013e-07  0.620667  0             0.03      2  ARP\n",
      "43      4.32876e-08  0.625117  0             0.03      3  ARP\n",
      "44      6.57933e-08  0.625117  0             0.03      4  ARP\n",
      "45      5.3367e-08   0.625117  0             0.03      5  ARP\n",
      "46      3.51119e-08  0.625117  0             0.03      6  ARP\n",
      "47      2.84804e-07  0.620667  0             0.032     7  ARP\n",
      "48      2.84804e-07  0.620667  0             0.029     8  ARP\n",
      "49      8.11131e-08  0.625117  0             0.029     9  ARP\n",
      "50      1.87382e-08  0.889805  0             0.047     0  SP\n",
      "51      6.57933e-08  0.962239  0             0.04      1  SP\n",
      "52      3.51119e-08  0.967234  0             0.037     2  SP\n",
      "53      3.51119e-07  0.930391  1.11022e-16   0.043     3  SP\n",
      "54      2.84804e-07  0.930391  1.11022e-16   0.038     4  SP\n",
      "55      5.3367e-08   0.962239  0             0.038     5  SP\n",
      "56      3.51119e-07  0.930391  1.11022e-16   0.042     6  SP\n",
      "57      3.51119e-08  0.967234  0             0.038     7  SP\n",
      "58      3.51119e-08  0.967234  0             0.04      8  SP\n",
      "59      1.23285e-06  0.924747  0             0.04      9  SP\n",
      "60      0.0657933    0.496874  5.55112e-17   0.035     0  BF\n",
      "61      0.00657933   0.487098  0             0.032     1  BF\n",
      "62      0.00811131   0.489719  0             0.031     2  BF\n",
      "63      0.00657933   0.487098  0             0.031     3  BF\n",
      "64      0.0284804    0.487232  5.55112e-17   0.034     4  BF\n",
      "65      0.0231013    0.486378  5.55112e-17   0.03      5  BF\n",
      "66      0.0351119    0.488951  0             0.032     6  BF\n",
      "67      0.123285     0.300437  0             0.033     7  BF\n",
      "68      0.0432876    0.490685  0             0.032     8  BF\n",
      "69      0.0657933    0.496874  5.55112e-17   0.03      9  BF\n"
     ]
    },
    {
     "name": "stderr",
     "output_type": "stream",
     "text": [
      "\n"
     ]
    }
   ],
   "source": [
    "lines=[['var_smoothing', \"F1\",\"Std\",\"Time\",\"No\",\"Attack\"]]\n",
    "for j in file_list:\n",
    "    print(j)\n",
    "    \n",
    "    df=pd.read_csv(file_list[j][0],usecols=feature_list[j]) \n",
    "    X_train = df.iloc[:,0:-1]\n",
    "    df['Label'] = df['Label'].astype('category')\n",
    "    y_train=df['Label'].cat.codes  \n",
    "\n",
    "\n",
    "    df=pd.read_csv(file_list[j][1],usecols=feature_list[j]) \n",
    "    X_test = df.iloc[:,0:-1]\n",
    "    df['Label'] = df['Label'].astype('category')\n",
    "    y_test=df['Label'].cat.codes  \n",
    "    \n",
    "    X= np.concatenate([X_train, X_test])\n",
    "    test_fold = [-1 for _ in range(X_train.shape[0])] + [0 for _ in range(X_test.shape[0])]\n",
    "    y = np.concatenate([y_train, y_test])\n",
    "    ps = PredefinedSplit(test_fold)\n",
    "    \n",
    "    second=time()\n",
    "\n",
    "    param_grid = {\n",
    "        'var_smoothing': np.logspace(0,-9, num=100),\n",
    "    }\n",
    "\n",
    " \n",
    "    second=time()\n",
    "    f1=[]\n",
    "    clf=GaussianNB()\n",
    "    for ii in range(1):\n",
    "        clf.fit(X_train, y_train)\n",
    "        predict =clf.predict(X_test)\n",
    "        f1.append(sklearn.metrics.f1_score(y_test, predict,average= \"macro\") )\n",
    "    f1=sum(f1)/len(f1)   \n",
    "    #if f1>0.76:\n",
    "    print('%-35s %-20s %-8s %-8s' % (\"default\",f1,round(time()-second,3),ii))\n",
    "    ######################################################################################################################\n",
    "    for i in tqdm(range(10)):\n",
    "        second=time()\n",
    "        a,b,clf=run_random_search(GaussianNB(),param_grid,X,y)\n",
    "        f1=[]\n",
    "        for ii in range(5):\n",
    "            clf.fit(X_train, y_train)\n",
    "            predict =clf.predict(X_test)\n",
    "            f1.append(sklearn.metrics.f1_score(y_test, predict,average= \"macro\") )\n",
    "        f1_result=sum(f1)/len(f1)   \n",
    "        f1=np.array(f1)\n",
    "        stndtd=f1.std()\n",
    "        temp=list(a.values())\n",
    "        #print('%-90s %-20s %-8s %-8s' % (a,f1_result,round(time()-second,3),i))\n",
    "        temp=temp+[f1_result,stndtd,round(time()-second,3),i,j]\n",
    "        lines.append(temp)\n",
    "\n",
    "\n",
    "results = pd.DataFrame (lines[1:], columns = lines[0])\n",
    "results.to_csv(\"NB_HPO.csv\",index=False)\n",
    "print (tabulate(results, headers=list(results.columns)))\n",
    "    \n"
   ]
  },
  {
   "cell_type": "markdown",
   "metadata": {},
   "source": [
    "### RandomSearch CV SVM"
   ]
  },
  {
   "cell_type": "code",
   "execution_count": 11,
   "metadata": {},
   "outputs": [
    {
     "name": "stdout",
     "output_type": "stream",
     "text": [
      "SYN\n",
      "default                             0.7849428130587054   0.162    0       \n"
     ]
    },
    {
     "name": "stderr",
     "output_type": "stream",
     "text": [
      "100%|██████████| 1/1 [04:08<00:00, 248.33s/it]\n"
     ]
    },
    {
     "name": "stdout",
     "output_type": "stream",
     "text": [
      "{'gamma': 1, 'C': 10}                                                                      0.49871553348176056  248.325  0       \n",
      "HTTP\n",
      "default                             0.6062213740458016   0.074    0       \n"
     ]
    },
    {
     "name": "stderr",
     "output_type": "stream",
     "text": [
      "100%|██████████| 1/1 [00:01<00:00,  1.94s/it]\n"
     ]
    },
    {
     "name": "stdout",
     "output_type": "stream",
     "text": [
      "{'gamma': 0.001, 'C': 1}                                                                   0.5676300125313283   1.94     0       \n",
      "ACK\n",
      "default                             0.522583994920136    0.075    0       \n"
     ]
    },
    {
     "name": "stderr",
     "output_type": "stream",
     "text": [
      "100%|██████████| 1/1 [00:31<00:00, 31.99s/it]\n"
     ]
    },
    {
     "name": "stdout",
     "output_type": "stream",
     "text": [
      "{'gamma': 1, 'C': 10}                                                                      0.29246917843257625  31.987   0       \n",
      "UDP\n",
      "default                             0.28860294117647056  0.005    0       \n"
     ]
    },
    {
     "name": "stderr",
     "output_type": "stream",
     "text": [
      "100%|██████████| 1/1 [00:00<00:00,  3.47it/s]\n"
     ]
    },
    {
     "name": "stdout",
     "output_type": "stream",
     "text": [
      "{'gamma': 1, 'C': 1}                                                                       0.28860294117647056  0.287    0       \n",
      "ARP\n",
      "default                             0.5415453756192227   0.01     0       \n"
     ]
    },
    {
     "name": "stderr",
     "output_type": "stream",
     "text": [
      "100%|██████████| 1/1 [00:00<00:00,  4.29it/s]\n"
     ]
    },
    {
     "name": "stdout",
     "output_type": "stream",
     "text": [
      "{'gamma': 0.001, 'C': 0.001}                                                               0.4246987951807229   0.232    0       \n",
      "SP\n",
      "default                             0.7494355816773952   0.018    0       \n"
     ]
    },
    {
     "name": "stderr",
     "output_type": "stream",
     "text": [
      "100%|██████████| 1/1 [00:02<00:00,  2.21s/it]\n"
     ]
    },
    {
     "name": "stdout",
     "output_type": "stream",
     "text": [
      "{'gamma': 1, 'C': 10}                                                                      0.48504486540378866  2.206    0       \n",
      "BF\n",
      "default                             0.45811177312234397  0.061    0       \n"
     ]
    },
    {
     "name": "stderr",
     "output_type": "stream",
     "text": [
      "100%|██████████| 1/1 [00:01<00:00,  1.31s/it]"
     ]
    },
    {
     "name": "stdout",
     "output_type": "stream",
     "text": [
      "{'gamma': 1, 'C': 10}                                                                      0.5408530975260684   1.304    0       \n",
      "      gamma       C        F1    Std     Time    No  Attack\n",
      "--  -------  ------  --------  -----  -------  ----  --------\n",
      " 0    1      10      0.498716      0  248.325     0  SYN\n",
      " 1    0.001   1      0.56763       0    1.941     0  HTTP\n",
      " 2    1      10      0.292469      0   31.987     0  ACK\n",
      " 3    1       1      0.288603      0    0.287     0  UDP\n",
      " 4    0.001   0.001  0.424699      0    0.232     0  ARP\n",
      " 5    1      10      0.485045      0    2.206     0  SP\n",
      " 6    1      10      0.540853      0    1.304     0  BF\n"
     ]
    },
    {
     "name": "stderr",
     "output_type": "stream",
     "text": [
      "\n"
     ]
    }
   ],
   "source": [
    "lines = [[\"gamma\", \"C\", \"F1\", \"Std\", \"Time\", \"No\", \"Attack\"]]\n",
    "\n",
    "for j in file_list:\n",
    "    print(j)\n",
    "\n",
    "    df = pd.read_csv(file_list[j][0], usecols=feature_list[j])\n",
    "    X_train = df.iloc[:, 0:-1]\n",
    "    df[\"Label\"] = df[\"Label\"].astype(\"category\")\n",
    "    y_train = df[\"Label\"].cat.codes\n",
    "\n",
    "    df = pd.read_csv(file_list[j][1], usecols=feature_list[j])\n",
    "    X_test = df.iloc[:, 0:-1]\n",
    "    df[\"Label\"] = df[\"Label\"].astype(\"category\")\n",
    "    y_test = df[\"Label\"].cat.codes\n",
    "\n",
    "    X = np.concatenate([X_train, X_test])\n",
    "    test_fold = [-1 for _ in range(X_train.shape[0])] + [\n",
    "        0 for _ in range(X_test.shape[0])\n",
    "    ]\n",
    "    y = np.concatenate([y_train, y_test])\n",
    "    ps = PredefinedSplit(test_fold)\n",
    "\n",
    "    param_grid = {\"C\": [0.001, 0.01, 0.1, 1, 10], \"gamma\": [0.001, 0.01, 0.1, 1]}\n",
    "\n",
    "    second = time()\n",
    "    f1 = []\n",
    "    clf = svm.SVC()\n",
    "    for ii in range(1):\n",
    "        clf.fit(X_train, y_train)\n",
    "        predict = clf.predict(X_test)\n",
    "        f1.append(sklearn.metrics.f1_score(y_test, predict, average=\"macro\"))\n",
    "    f1 = sum(f1) / len(f1)\n",
    "    # if f1>0.76:\n",
    "    print(\"%-35s %-20s %-8s %-8s\" % (\"default\", f1, round(time() - second, 3), ii))\n",
    "\n",
    "    ######################################################################################################################\n",
    "    for i in tqdm(range(1)):\n",
    "        second = time()\n",
    "        a, b, clf = run_random_search(svm.SVC(), param_grid, X, y)\n",
    "        f1 = []\n",
    "        for ii in range(1):\n",
    "            clf.fit(X_train, y_train)\n",
    "            predict = clf.predict(X_test)\n",
    "            f1.append(sklearn.metrics.f1_score(y_test, predict, average=\"macro\"))\n",
    "        f1_result = sum(f1) / len(f1)\n",
    "        f1 = np.array(f1)\n",
    "        stndtd = f1.std()\n",
    "        temp = list(a.values())\n",
    "        print(\"%-90s %-20s %-8s %-8s\" % (a, f1_result, round(time() - second, 3), i))\n",
    "        temp = temp + [f1_result, stndtd, round(time() - second, 3), i, j]\n",
    "        lines.append(temp)\n",
    "\n",
    "results = pd.DataFrame(lines[1:], columns=lines[0])\n",
    "results.to_csv(\"svm_HPO.csv\", index=False)\n",
    "\n",
    "\n",
    "print(tabulate(results, headers=list(results.columns)))\n"
   ]
  }
 ],
 "metadata": {
  "kernelspec": {
   "display_name": "venv",
   "language": "python",
   "name": "python3"
  },
  "language_info": {
   "codemirror_mode": {
    "name": "ipython",
    "version": 3
   },
   "file_extension": ".py",
   "mimetype": "text/x-python",
   "name": "python",
   "nbconvert_exporter": "python",
   "pygments_lexer": "ipython3",
   "version": "3.12.7"
  }
 },
 "nbformat": 4,
 "nbformat_minor": 2
}
